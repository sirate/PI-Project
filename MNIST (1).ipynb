{
  "nbformat": 4,
  "nbformat_minor": 0,
  "metadata": {
    "colab": {
      "name": "MNIST",
      "provenance": []
    },
    "kernelspec": {
      "name": "python3",
      "display_name": "Python 3"
    },
    "language_info": {
      "name": "python"
    },
    "accelerator": "GPU",
    "widgets": {
      "application/vnd.jupyter.widget-state+json": {
        "f3c46ff6585e4ecf8ba6767c89895baf": {
          "model_module": "@jupyter-widgets/controls",
          "model_name": "HBoxModel",
          "model_module_version": "1.5.0",
          "state": {
            "_dom_classes": [],
            "_model_module": "@jupyter-widgets/controls",
            "_model_module_version": "1.5.0",
            "_model_name": "HBoxModel",
            "_view_count": null,
            "_view_module": "@jupyter-widgets/controls",
            "_view_module_version": "1.5.0",
            "_view_name": "HBoxView",
            "box_style": "",
            "children": [
              "IPY_MODEL_053fb6f7c9c4445a9bc2e63d4606f4a4",
              "IPY_MODEL_1a21314ddcff4923ad07c698f92a86e7",
              "IPY_MODEL_1ca3f270142b432781482c32d62f802d"
            ],
            "layout": "IPY_MODEL_f0c0bfacb3ec4cd881b58dab68c3133a"
          }
        },
        "053fb6f7c9c4445a9bc2e63d4606f4a4": {
          "model_module": "@jupyter-widgets/controls",
          "model_name": "HTMLModel",
          "model_module_version": "1.5.0",
          "state": {
            "_dom_classes": [],
            "_model_module": "@jupyter-widgets/controls",
            "_model_module_version": "1.5.0",
            "_model_name": "HTMLModel",
            "_view_count": null,
            "_view_module": "@jupyter-widgets/controls",
            "_view_module_version": "1.5.0",
            "_view_name": "HTMLView",
            "description": "",
            "description_tooltip": null,
            "layout": "IPY_MODEL_1a8ae1cd58b7491c8859cad41a229bc7",
            "placeholder": "​",
            "style": "IPY_MODEL_3b1a0c5ec23c4f2689834415a01d268c",
            "value": ""
          }
        },
        "1a21314ddcff4923ad07c698f92a86e7": {
          "model_module": "@jupyter-widgets/controls",
          "model_name": "FloatProgressModel",
          "model_module_version": "1.5.0",
          "state": {
            "_dom_classes": [],
            "_model_module": "@jupyter-widgets/controls",
            "_model_module_version": "1.5.0",
            "_model_name": "FloatProgressModel",
            "_view_count": null,
            "_view_module": "@jupyter-widgets/controls",
            "_view_module_version": "1.5.0",
            "_view_name": "ProgressView",
            "bar_style": "success",
            "description": "",
            "description_tooltip": null,
            "layout": "IPY_MODEL_3cfb0e84623349c8a386eb7905cf155b",
            "max": 9912422,
            "min": 0,
            "orientation": "horizontal",
            "style": "IPY_MODEL_7e4d3b6577c64d929541e16eec6f4053",
            "value": 9912422
          }
        },
        "1ca3f270142b432781482c32d62f802d": {
          "model_module": "@jupyter-widgets/controls",
          "model_name": "HTMLModel",
          "model_module_version": "1.5.0",
          "state": {
            "_dom_classes": [],
            "_model_module": "@jupyter-widgets/controls",
            "_model_module_version": "1.5.0",
            "_model_name": "HTMLModel",
            "_view_count": null,
            "_view_module": "@jupyter-widgets/controls",
            "_view_module_version": "1.5.0",
            "_view_name": "HTMLView",
            "description": "",
            "description_tooltip": null,
            "layout": "IPY_MODEL_ea38ee7c9efd4f4f88d840a55ccaeb20",
            "placeholder": "​",
            "style": "IPY_MODEL_c7508f91fbda4efe9b2b567aebb76795",
            "value": " 9913344/? [00:00&lt;00:00, 16924349.69it/s]"
          }
        },
        "f0c0bfacb3ec4cd881b58dab68c3133a": {
          "model_module": "@jupyter-widgets/base",
          "model_name": "LayoutModel",
          "model_module_version": "1.2.0",
          "state": {
            "_model_module": "@jupyter-widgets/base",
            "_model_module_version": "1.2.0",
            "_model_name": "LayoutModel",
            "_view_count": null,
            "_view_module": "@jupyter-widgets/base",
            "_view_module_version": "1.2.0",
            "_view_name": "LayoutView",
            "align_content": null,
            "align_items": null,
            "align_self": null,
            "border": null,
            "bottom": null,
            "display": null,
            "flex": null,
            "flex_flow": null,
            "grid_area": null,
            "grid_auto_columns": null,
            "grid_auto_flow": null,
            "grid_auto_rows": null,
            "grid_column": null,
            "grid_gap": null,
            "grid_row": null,
            "grid_template_areas": null,
            "grid_template_columns": null,
            "grid_template_rows": null,
            "height": null,
            "justify_content": null,
            "justify_items": null,
            "left": null,
            "margin": null,
            "max_height": null,
            "max_width": null,
            "min_height": null,
            "min_width": null,
            "object_fit": null,
            "object_position": null,
            "order": null,
            "overflow": null,
            "overflow_x": null,
            "overflow_y": null,
            "padding": null,
            "right": null,
            "top": null,
            "visibility": null,
            "width": null
          }
        },
        "1a8ae1cd58b7491c8859cad41a229bc7": {
          "model_module": "@jupyter-widgets/base",
          "model_name": "LayoutModel",
          "model_module_version": "1.2.0",
          "state": {
            "_model_module": "@jupyter-widgets/base",
            "_model_module_version": "1.2.0",
            "_model_name": "LayoutModel",
            "_view_count": null,
            "_view_module": "@jupyter-widgets/base",
            "_view_module_version": "1.2.0",
            "_view_name": "LayoutView",
            "align_content": null,
            "align_items": null,
            "align_self": null,
            "border": null,
            "bottom": null,
            "display": null,
            "flex": null,
            "flex_flow": null,
            "grid_area": null,
            "grid_auto_columns": null,
            "grid_auto_flow": null,
            "grid_auto_rows": null,
            "grid_column": null,
            "grid_gap": null,
            "grid_row": null,
            "grid_template_areas": null,
            "grid_template_columns": null,
            "grid_template_rows": null,
            "height": null,
            "justify_content": null,
            "justify_items": null,
            "left": null,
            "margin": null,
            "max_height": null,
            "max_width": null,
            "min_height": null,
            "min_width": null,
            "object_fit": null,
            "object_position": null,
            "order": null,
            "overflow": null,
            "overflow_x": null,
            "overflow_y": null,
            "padding": null,
            "right": null,
            "top": null,
            "visibility": null,
            "width": null
          }
        },
        "3b1a0c5ec23c4f2689834415a01d268c": {
          "model_module": "@jupyter-widgets/controls",
          "model_name": "DescriptionStyleModel",
          "model_module_version": "1.5.0",
          "state": {
            "_model_module": "@jupyter-widgets/controls",
            "_model_module_version": "1.5.0",
            "_model_name": "DescriptionStyleModel",
            "_view_count": null,
            "_view_module": "@jupyter-widgets/base",
            "_view_module_version": "1.2.0",
            "_view_name": "StyleView",
            "description_width": ""
          }
        },
        "3cfb0e84623349c8a386eb7905cf155b": {
          "model_module": "@jupyter-widgets/base",
          "model_name": "LayoutModel",
          "model_module_version": "1.2.0",
          "state": {
            "_model_module": "@jupyter-widgets/base",
            "_model_module_version": "1.2.0",
            "_model_name": "LayoutModel",
            "_view_count": null,
            "_view_module": "@jupyter-widgets/base",
            "_view_module_version": "1.2.0",
            "_view_name": "LayoutView",
            "align_content": null,
            "align_items": null,
            "align_self": null,
            "border": null,
            "bottom": null,
            "display": null,
            "flex": null,
            "flex_flow": null,
            "grid_area": null,
            "grid_auto_columns": null,
            "grid_auto_flow": null,
            "grid_auto_rows": null,
            "grid_column": null,
            "grid_gap": null,
            "grid_row": null,
            "grid_template_areas": null,
            "grid_template_columns": null,
            "grid_template_rows": null,
            "height": null,
            "justify_content": null,
            "justify_items": null,
            "left": null,
            "margin": null,
            "max_height": null,
            "max_width": null,
            "min_height": null,
            "min_width": null,
            "object_fit": null,
            "object_position": null,
            "order": null,
            "overflow": null,
            "overflow_x": null,
            "overflow_y": null,
            "padding": null,
            "right": null,
            "top": null,
            "visibility": null,
            "width": null
          }
        },
        "7e4d3b6577c64d929541e16eec6f4053": {
          "model_module": "@jupyter-widgets/controls",
          "model_name": "ProgressStyleModel",
          "model_module_version": "1.5.0",
          "state": {
            "_model_module": "@jupyter-widgets/controls",
            "_model_module_version": "1.5.0",
            "_model_name": "ProgressStyleModel",
            "_view_count": null,
            "_view_module": "@jupyter-widgets/base",
            "_view_module_version": "1.2.0",
            "_view_name": "StyleView",
            "bar_color": null,
            "description_width": ""
          }
        },
        "ea38ee7c9efd4f4f88d840a55ccaeb20": {
          "model_module": "@jupyter-widgets/base",
          "model_name": "LayoutModel",
          "model_module_version": "1.2.0",
          "state": {
            "_model_module": "@jupyter-widgets/base",
            "_model_module_version": "1.2.0",
            "_model_name": "LayoutModel",
            "_view_count": null,
            "_view_module": "@jupyter-widgets/base",
            "_view_module_version": "1.2.0",
            "_view_name": "LayoutView",
            "align_content": null,
            "align_items": null,
            "align_self": null,
            "border": null,
            "bottom": null,
            "display": null,
            "flex": null,
            "flex_flow": null,
            "grid_area": null,
            "grid_auto_columns": null,
            "grid_auto_flow": null,
            "grid_auto_rows": null,
            "grid_column": null,
            "grid_gap": null,
            "grid_row": null,
            "grid_template_areas": null,
            "grid_template_columns": null,
            "grid_template_rows": null,
            "height": null,
            "justify_content": null,
            "justify_items": null,
            "left": null,
            "margin": null,
            "max_height": null,
            "max_width": null,
            "min_height": null,
            "min_width": null,
            "object_fit": null,
            "object_position": null,
            "order": null,
            "overflow": null,
            "overflow_x": null,
            "overflow_y": null,
            "padding": null,
            "right": null,
            "top": null,
            "visibility": null,
            "width": null
          }
        },
        "c7508f91fbda4efe9b2b567aebb76795": {
          "model_module": "@jupyter-widgets/controls",
          "model_name": "DescriptionStyleModel",
          "model_module_version": "1.5.0",
          "state": {
            "_model_module": "@jupyter-widgets/controls",
            "_model_module_version": "1.5.0",
            "_model_name": "DescriptionStyleModel",
            "_view_count": null,
            "_view_module": "@jupyter-widgets/base",
            "_view_module_version": "1.2.0",
            "_view_name": "StyleView",
            "description_width": ""
          }
        },
        "5d79bdcc530a4cb8b880ab9b757ff339": {
          "model_module": "@jupyter-widgets/controls",
          "model_name": "HBoxModel",
          "model_module_version": "1.5.0",
          "state": {
            "_dom_classes": [],
            "_model_module": "@jupyter-widgets/controls",
            "_model_module_version": "1.5.0",
            "_model_name": "HBoxModel",
            "_view_count": null,
            "_view_module": "@jupyter-widgets/controls",
            "_view_module_version": "1.5.0",
            "_view_name": "HBoxView",
            "box_style": "",
            "children": [
              "IPY_MODEL_4ca5bca47ccd4b809654632f0b46d9ba",
              "IPY_MODEL_e4cb135b1198488fa3039d69c3c7d5a2",
              "IPY_MODEL_724c65d6aa7c4dd5a429f7f455935fc1"
            ],
            "layout": "IPY_MODEL_15e207dd5a344eb496a4fc9025b3fe75"
          }
        },
        "4ca5bca47ccd4b809654632f0b46d9ba": {
          "model_module": "@jupyter-widgets/controls",
          "model_name": "HTMLModel",
          "model_module_version": "1.5.0",
          "state": {
            "_dom_classes": [],
            "_model_module": "@jupyter-widgets/controls",
            "_model_module_version": "1.5.0",
            "_model_name": "HTMLModel",
            "_view_count": null,
            "_view_module": "@jupyter-widgets/controls",
            "_view_module_version": "1.5.0",
            "_view_name": "HTMLView",
            "description": "",
            "description_tooltip": null,
            "layout": "IPY_MODEL_b6a5afec7ca74b51b112a9050172a5f8",
            "placeholder": "​",
            "style": "IPY_MODEL_a542a9f3884e42a5b3abcea3a7a75335",
            "value": ""
          }
        },
        "e4cb135b1198488fa3039d69c3c7d5a2": {
          "model_module": "@jupyter-widgets/controls",
          "model_name": "FloatProgressModel",
          "model_module_version": "1.5.0",
          "state": {
            "_dom_classes": [],
            "_model_module": "@jupyter-widgets/controls",
            "_model_module_version": "1.5.0",
            "_model_name": "FloatProgressModel",
            "_view_count": null,
            "_view_module": "@jupyter-widgets/controls",
            "_view_module_version": "1.5.0",
            "_view_name": "ProgressView",
            "bar_style": "success",
            "description": "",
            "description_tooltip": null,
            "layout": "IPY_MODEL_c4b8a02d9dc14b8eba74bd846aa502d1",
            "max": 28881,
            "min": 0,
            "orientation": "horizontal",
            "style": "IPY_MODEL_298dc758a57c485f9e418a42e0a735fc",
            "value": 28881
          }
        },
        "724c65d6aa7c4dd5a429f7f455935fc1": {
          "model_module": "@jupyter-widgets/controls",
          "model_name": "HTMLModel",
          "model_module_version": "1.5.0",
          "state": {
            "_dom_classes": [],
            "_model_module": "@jupyter-widgets/controls",
            "_model_module_version": "1.5.0",
            "_model_name": "HTMLModel",
            "_view_count": null,
            "_view_module": "@jupyter-widgets/controls",
            "_view_module_version": "1.5.0",
            "_view_name": "HTMLView",
            "description": "",
            "description_tooltip": null,
            "layout": "IPY_MODEL_8561ea5b1f85482fbdd97d12156ab966",
            "placeholder": "​",
            "style": "IPY_MODEL_8fe117e87284499e8846dd96f07968aa",
            "value": " 29696/? [00:00&lt;00:00, 357627.22it/s]"
          }
        },
        "15e207dd5a344eb496a4fc9025b3fe75": {
          "model_module": "@jupyter-widgets/base",
          "model_name": "LayoutModel",
          "model_module_version": "1.2.0",
          "state": {
            "_model_module": "@jupyter-widgets/base",
            "_model_module_version": "1.2.0",
            "_model_name": "LayoutModel",
            "_view_count": null,
            "_view_module": "@jupyter-widgets/base",
            "_view_module_version": "1.2.0",
            "_view_name": "LayoutView",
            "align_content": null,
            "align_items": null,
            "align_self": null,
            "border": null,
            "bottom": null,
            "display": null,
            "flex": null,
            "flex_flow": null,
            "grid_area": null,
            "grid_auto_columns": null,
            "grid_auto_flow": null,
            "grid_auto_rows": null,
            "grid_column": null,
            "grid_gap": null,
            "grid_row": null,
            "grid_template_areas": null,
            "grid_template_columns": null,
            "grid_template_rows": null,
            "height": null,
            "justify_content": null,
            "justify_items": null,
            "left": null,
            "margin": null,
            "max_height": null,
            "max_width": null,
            "min_height": null,
            "min_width": null,
            "object_fit": null,
            "object_position": null,
            "order": null,
            "overflow": null,
            "overflow_x": null,
            "overflow_y": null,
            "padding": null,
            "right": null,
            "top": null,
            "visibility": null,
            "width": null
          }
        },
        "b6a5afec7ca74b51b112a9050172a5f8": {
          "model_module": "@jupyter-widgets/base",
          "model_name": "LayoutModel",
          "model_module_version": "1.2.0",
          "state": {
            "_model_module": "@jupyter-widgets/base",
            "_model_module_version": "1.2.0",
            "_model_name": "LayoutModel",
            "_view_count": null,
            "_view_module": "@jupyter-widgets/base",
            "_view_module_version": "1.2.0",
            "_view_name": "LayoutView",
            "align_content": null,
            "align_items": null,
            "align_self": null,
            "border": null,
            "bottom": null,
            "display": null,
            "flex": null,
            "flex_flow": null,
            "grid_area": null,
            "grid_auto_columns": null,
            "grid_auto_flow": null,
            "grid_auto_rows": null,
            "grid_column": null,
            "grid_gap": null,
            "grid_row": null,
            "grid_template_areas": null,
            "grid_template_columns": null,
            "grid_template_rows": null,
            "height": null,
            "justify_content": null,
            "justify_items": null,
            "left": null,
            "margin": null,
            "max_height": null,
            "max_width": null,
            "min_height": null,
            "min_width": null,
            "object_fit": null,
            "object_position": null,
            "order": null,
            "overflow": null,
            "overflow_x": null,
            "overflow_y": null,
            "padding": null,
            "right": null,
            "top": null,
            "visibility": null,
            "width": null
          }
        },
        "a542a9f3884e42a5b3abcea3a7a75335": {
          "model_module": "@jupyter-widgets/controls",
          "model_name": "DescriptionStyleModel",
          "model_module_version": "1.5.0",
          "state": {
            "_model_module": "@jupyter-widgets/controls",
            "_model_module_version": "1.5.0",
            "_model_name": "DescriptionStyleModel",
            "_view_count": null,
            "_view_module": "@jupyter-widgets/base",
            "_view_module_version": "1.2.0",
            "_view_name": "StyleView",
            "description_width": ""
          }
        },
        "c4b8a02d9dc14b8eba74bd846aa502d1": {
          "model_module": "@jupyter-widgets/base",
          "model_name": "LayoutModel",
          "model_module_version": "1.2.0",
          "state": {
            "_model_module": "@jupyter-widgets/base",
            "_model_module_version": "1.2.0",
            "_model_name": "LayoutModel",
            "_view_count": null,
            "_view_module": "@jupyter-widgets/base",
            "_view_module_version": "1.2.0",
            "_view_name": "LayoutView",
            "align_content": null,
            "align_items": null,
            "align_self": null,
            "border": null,
            "bottom": null,
            "display": null,
            "flex": null,
            "flex_flow": null,
            "grid_area": null,
            "grid_auto_columns": null,
            "grid_auto_flow": null,
            "grid_auto_rows": null,
            "grid_column": null,
            "grid_gap": null,
            "grid_row": null,
            "grid_template_areas": null,
            "grid_template_columns": null,
            "grid_template_rows": null,
            "height": null,
            "justify_content": null,
            "justify_items": null,
            "left": null,
            "margin": null,
            "max_height": null,
            "max_width": null,
            "min_height": null,
            "min_width": null,
            "object_fit": null,
            "object_position": null,
            "order": null,
            "overflow": null,
            "overflow_x": null,
            "overflow_y": null,
            "padding": null,
            "right": null,
            "top": null,
            "visibility": null,
            "width": null
          }
        },
        "298dc758a57c485f9e418a42e0a735fc": {
          "model_module": "@jupyter-widgets/controls",
          "model_name": "ProgressStyleModel",
          "model_module_version": "1.5.0",
          "state": {
            "_model_module": "@jupyter-widgets/controls",
            "_model_module_version": "1.5.0",
            "_model_name": "ProgressStyleModel",
            "_view_count": null,
            "_view_module": "@jupyter-widgets/base",
            "_view_module_version": "1.2.0",
            "_view_name": "StyleView",
            "bar_color": null,
            "description_width": ""
          }
        },
        "8561ea5b1f85482fbdd97d12156ab966": {
          "model_module": "@jupyter-widgets/base",
          "model_name": "LayoutModel",
          "model_module_version": "1.2.0",
          "state": {
            "_model_module": "@jupyter-widgets/base",
            "_model_module_version": "1.2.0",
            "_model_name": "LayoutModel",
            "_view_count": null,
            "_view_module": "@jupyter-widgets/base",
            "_view_module_version": "1.2.0",
            "_view_name": "LayoutView",
            "align_content": null,
            "align_items": null,
            "align_self": null,
            "border": null,
            "bottom": null,
            "display": null,
            "flex": null,
            "flex_flow": null,
            "grid_area": null,
            "grid_auto_columns": null,
            "grid_auto_flow": null,
            "grid_auto_rows": null,
            "grid_column": null,
            "grid_gap": null,
            "grid_row": null,
            "grid_template_areas": null,
            "grid_template_columns": null,
            "grid_template_rows": null,
            "height": null,
            "justify_content": null,
            "justify_items": null,
            "left": null,
            "margin": null,
            "max_height": null,
            "max_width": null,
            "min_height": null,
            "min_width": null,
            "object_fit": null,
            "object_position": null,
            "order": null,
            "overflow": null,
            "overflow_x": null,
            "overflow_y": null,
            "padding": null,
            "right": null,
            "top": null,
            "visibility": null,
            "width": null
          }
        },
        "8fe117e87284499e8846dd96f07968aa": {
          "model_module": "@jupyter-widgets/controls",
          "model_name": "DescriptionStyleModel",
          "model_module_version": "1.5.0",
          "state": {
            "_model_module": "@jupyter-widgets/controls",
            "_model_module_version": "1.5.0",
            "_model_name": "DescriptionStyleModel",
            "_view_count": null,
            "_view_module": "@jupyter-widgets/base",
            "_view_module_version": "1.2.0",
            "_view_name": "StyleView",
            "description_width": ""
          }
        },
        "8f726b64e9544433a55365f0875bd965": {
          "model_module": "@jupyter-widgets/controls",
          "model_name": "HBoxModel",
          "model_module_version": "1.5.0",
          "state": {
            "_dom_classes": [],
            "_model_module": "@jupyter-widgets/controls",
            "_model_module_version": "1.5.0",
            "_model_name": "HBoxModel",
            "_view_count": null,
            "_view_module": "@jupyter-widgets/controls",
            "_view_module_version": "1.5.0",
            "_view_name": "HBoxView",
            "box_style": "",
            "children": [
              "IPY_MODEL_f38bf735f862400ab3b4e2a3efef7f1d",
              "IPY_MODEL_fb74c236b1e647efa447868353415b2f",
              "IPY_MODEL_b5b792ee6ad54e19ae9bf7d8e6955684"
            ],
            "layout": "IPY_MODEL_8688068736684febaa5c87f3254f2f7a"
          }
        },
        "f38bf735f862400ab3b4e2a3efef7f1d": {
          "model_module": "@jupyter-widgets/controls",
          "model_name": "HTMLModel",
          "model_module_version": "1.5.0",
          "state": {
            "_dom_classes": [],
            "_model_module": "@jupyter-widgets/controls",
            "_model_module_version": "1.5.0",
            "_model_name": "HTMLModel",
            "_view_count": null,
            "_view_module": "@jupyter-widgets/controls",
            "_view_module_version": "1.5.0",
            "_view_name": "HTMLView",
            "description": "",
            "description_tooltip": null,
            "layout": "IPY_MODEL_81c0a17ef9d14699aa018b5bf4bed79d",
            "placeholder": "​",
            "style": "IPY_MODEL_86d128e44b0c4ff0bcf4b6dca2888884",
            "value": ""
          }
        },
        "fb74c236b1e647efa447868353415b2f": {
          "model_module": "@jupyter-widgets/controls",
          "model_name": "FloatProgressModel",
          "model_module_version": "1.5.0",
          "state": {
            "_dom_classes": [],
            "_model_module": "@jupyter-widgets/controls",
            "_model_module_version": "1.5.0",
            "_model_name": "FloatProgressModel",
            "_view_count": null,
            "_view_module": "@jupyter-widgets/controls",
            "_view_module_version": "1.5.0",
            "_view_name": "ProgressView",
            "bar_style": "success",
            "description": "",
            "description_tooltip": null,
            "layout": "IPY_MODEL_1a58567e138044839baf506671b63273",
            "max": 1648877,
            "min": 0,
            "orientation": "horizontal",
            "style": "IPY_MODEL_325bd892bd7f4bbf888a186698ef0347",
            "value": 1648877
          }
        },
        "b5b792ee6ad54e19ae9bf7d8e6955684": {
          "model_module": "@jupyter-widgets/controls",
          "model_name": "HTMLModel",
          "model_module_version": "1.5.0",
          "state": {
            "_dom_classes": [],
            "_model_module": "@jupyter-widgets/controls",
            "_model_module_version": "1.5.0",
            "_model_name": "HTMLModel",
            "_view_count": null,
            "_view_module": "@jupyter-widgets/controls",
            "_view_module_version": "1.5.0",
            "_view_name": "HTMLView",
            "description": "",
            "description_tooltip": null,
            "layout": "IPY_MODEL_5cb32a38f51a459f8b24b48d55a27ec4",
            "placeholder": "​",
            "style": "IPY_MODEL_f878eb39de8d420bb4aebc8eb04101e9",
            "value": " 1649664/? [00:00&lt;00:00, 6008349.72it/s]"
          }
        },
        "8688068736684febaa5c87f3254f2f7a": {
          "model_module": "@jupyter-widgets/base",
          "model_name": "LayoutModel",
          "model_module_version": "1.2.0",
          "state": {
            "_model_module": "@jupyter-widgets/base",
            "_model_module_version": "1.2.0",
            "_model_name": "LayoutModel",
            "_view_count": null,
            "_view_module": "@jupyter-widgets/base",
            "_view_module_version": "1.2.0",
            "_view_name": "LayoutView",
            "align_content": null,
            "align_items": null,
            "align_self": null,
            "border": null,
            "bottom": null,
            "display": null,
            "flex": null,
            "flex_flow": null,
            "grid_area": null,
            "grid_auto_columns": null,
            "grid_auto_flow": null,
            "grid_auto_rows": null,
            "grid_column": null,
            "grid_gap": null,
            "grid_row": null,
            "grid_template_areas": null,
            "grid_template_columns": null,
            "grid_template_rows": null,
            "height": null,
            "justify_content": null,
            "justify_items": null,
            "left": null,
            "margin": null,
            "max_height": null,
            "max_width": null,
            "min_height": null,
            "min_width": null,
            "object_fit": null,
            "object_position": null,
            "order": null,
            "overflow": null,
            "overflow_x": null,
            "overflow_y": null,
            "padding": null,
            "right": null,
            "top": null,
            "visibility": null,
            "width": null
          }
        },
        "81c0a17ef9d14699aa018b5bf4bed79d": {
          "model_module": "@jupyter-widgets/base",
          "model_name": "LayoutModel",
          "model_module_version": "1.2.0",
          "state": {
            "_model_module": "@jupyter-widgets/base",
            "_model_module_version": "1.2.0",
            "_model_name": "LayoutModel",
            "_view_count": null,
            "_view_module": "@jupyter-widgets/base",
            "_view_module_version": "1.2.0",
            "_view_name": "LayoutView",
            "align_content": null,
            "align_items": null,
            "align_self": null,
            "border": null,
            "bottom": null,
            "display": null,
            "flex": null,
            "flex_flow": null,
            "grid_area": null,
            "grid_auto_columns": null,
            "grid_auto_flow": null,
            "grid_auto_rows": null,
            "grid_column": null,
            "grid_gap": null,
            "grid_row": null,
            "grid_template_areas": null,
            "grid_template_columns": null,
            "grid_template_rows": null,
            "height": null,
            "justify_content": null,
            "justify_items": null,
            "left": null,
            "margin": null,
            "max_height": null,
            "max_width": null,
            "min_height": null,
            "min_width": null,
            "object_fit": null,
            "object_position": null,
            "order": null,
            "overflow": null,
            "overflow_x": null,
            "overflow_y": null,
            "padding": null,
            "right": null,
            "top": null,
            "visibility": null,
            "width": null
          }
        },
        "86d128e44b0c4ff0bcf4b6dca2888884": {
          "model_module": "@jupyter-widgets/controls",
          "model_name": "DescriptionStyleModel",
          "model_module_version": "1.5.0",
          "state": {
            "_model_module": "@jupyter-widgets/controls",
            "_model_module_version": "1.5.0",
            "_model_name": "DescriptionStyleModel",
            "_view_count": null,
            "_view_module": "@jupyter-widgets/base",
            "_view_module_version": "1.2.0",
            "_view_name": "StyleView",
            "description_width": ""
          }
        },
        "1a58567e138044839baf506671b63273": {
          "model_module": "@jupyter-widgets/base",
          "model_name": "LayoutModel",
          "model_module_version": "1.2.0",
          "state": {
            "_model_module": "@jupyter-widgets/base",
            "_model_module_version": "1.2.0",
            "_model_name": "LayoutModel",
            "_view_count": null,
            "_view_module": "@jupyter-widgets/base",
            "_view_module_version": "1.2.0",
            "_view_name": "LayoutView",
            "align_content": null,
            "align_items": null,
            "align_self": null,
            "border": null,
            "bottom": null,
            "display": null,
            "flex": null,
            "flex_flow": null,
            "grid_area": null,
            "grid_auto_columns": null,
            "grid_auto_flow": null,
            "grid_auto_rows": null,
            "grid_column": null,
            "grid_gap": null,
            "grid_row": null,
            "grid_template_areas": null,
            "grid_template_columns": null,
            "grid_template_rows": null,
            "height": null,
            "justify_content": null,
            "justify_items": null,
            "left": null,
            "margin": null,
            "max_height": null,
            "max_width": null,
            "min_height": null,
            "min_width": null,
            "object_fit": null,
            "object_position": null,
            "order": null,
            "overflow": null,
            "overflow_x": null,
            "overflow_y": null,
            "padding": null,
            "right": null,
            "top": null,
            "visibility": null,
            "width": null
          }
        },
        "325bd892bd7f4bbf888a186698ef0347": {
          "model_module": "@jupyter-widgets/controls",
          "model_name": "ProgressStyleModel",
          "model_module_version": "1.5.0",
          "state": {
            "_model_module": "@jupyter-widgets/controls",
            "_model_module_version": "1.5.0",
            "_model_name": "ProgressStyleModel",
            "_view_count": null,
            "_view_module": "@jupyter-widgets/base",
            "_view_module_version": "1.2.0",
            "_view_name": "StyleView",
            "bar_color": null,
            "description_width": ""
          }
        },
        "5cb32a38f51a459f8b24b48d55a27ec4": {
          "model_module": "@jupyter-widgets/base",
          "model_name": "LayoutModel",
          "model_module_version": "1.2.0",
          "state": {
            "_model_module": "@jupyter-widgets/base",
            "_model_module_version": "1.2.0",
            "_model_name": "LayoutModel",
            "_view_count": null,
            "_view_module": "@jupyter-widgets/base",
            "_view_module_version": "1.2.0",
            "_view_name": "LayoutView",
            "align_content": null,
            "align_items": null,
            "align_self": null,
            "border": null,
            "bottom": null,
            "display": null,
            "flex": null,
            "flex_flow": null,
            "grid_area": null,
            "grid_auto_columns": null,
            "grid_auto_flow": null,
            "grid_auto_rows": null,
            "grid_column": null,
            "grid_gap": null,
            "grid_row": null,
            "grid_template_areas": null,
            "grid_template_columns": null,
            "grid_template_rows": null,
            "height": null,
            "justify_content": null,
            "justify_items": null,
            "left": null,
            "margin": null,
            "max_height": null,
            "max_width": null,
            "min_height": null,
            "min_width": null,
            "object_fit": null,
            "object_position": null,
            "order": null,
            "overflow": null,
            "overflow_x": null,
            "overflow_y": null,
            "padding": null,
            "right": null,
            "top": null,
            "visibility": null,
            "width": null
          }
        },
        "f878eb39de8d420bb4aebc8eb04101e9": {
          "model_module": "@jupyter-widgets/controls",
          "model_name": "DescriptionStyleModel",
          "model_module_version": "1.5.0",
          "state": {
            "_model_module": "@jupyter-widgets/controls",
            "_model_module_version": "1.5.0",
            "_model_name": "DescriptionStyleModel",
            "_view_count": null,
            "_view_module": "@jupyter-widgets/base",
            "_view_module_version": "1.2.0",
            "_view_name": "StyleView",
            "description_width": ""
          }
        },
        "f5af1920ae0d4ccb915164e886233a8e": {
          "model_module": "@jupyter-widgets/controls",
          "model_name": "HBoxModel",
          "model_module_version": "1.5.0",
          "state": {
            "_dom_classes": [],
            "_model_module": "@jupyter-widgets/controls",
            "_model_module_version": "1.5.0",
            "_model_name": "HBoxModel",
            "_view_count": null,
            "_view_module": "@jupyter-widgets/controls",
            "_view_module_version": "1.5.0",
            "_view_name": "HBoxView",
            "box_style": "",
            "children": [
              "IPY_MODEL_752802379e7e47ea8b918d80a84aa610",
              "IPY_MODEL_ce81736dadac4ef089d502fcd769c6af",
              "IPY_MODEL_281ea25c73714bda92cff51151f5d01b"
            ],
            "layout": "IPY_MODEL_79a907bef40146ab9c6e1b195abb54a8"
          }
        },
        "752802379e7e47ea8b918d80a84aa610": {
          "model_module": "@jupyter-widgets/controls",
          "model_name": "HTMLModel",
          "model_module_version": "1.5.0",
          "state": {
            "_dom_classes": [],
            "_model_module": "@jupyter-widgets/controls",
            "_model_module_version": "1.5.0",
            "_model_name": "HTMLModel",
            "_view_count": null,
            "_view_module": "@jupyter-widgets/controls",
            "_view_module_version": "1.5.0",
            "_view_name": "HTMLView",
            "description": "",
            "description_tooltip": null,
            "layout": "IPY_MODEL_1e388fa21fb24e329128b3539ba136e4",
            "placeholder": "​",
            "style": "IPY_MODEL_66e9de57cebc4d80b39cff9441b377b7",
            "value": ""
          }
        },
        "ce81736dadac4ef089d502fcd769c6af": {
          "model_module": "@jupyter-widgets/controls",
          "model_name": "FloatProgressModel",
          "model_module_version": "1.5.0",
          "state": {
            "_dom_classes": [],
            "_model_module": "@jupyter-widgets/controls",
            "_model_module_version": "1.5.0",
            "_model_name": "FloatProgressModel",
            "_view_count": null,
            "_view_module": "@jupyter-widgets/controls",
            "_view_module_version": "1.5.0",
            "_view_name": "ProgressView",
            "bar_style": "success",
            "description": "",
            "description_tooltip": null,
            "layout": "IPY_MODEL_e143471c22e44e1a855eb63b63f74f9b",
            "max": 4542,
            "min": 0,
            "orientation": "horizontal",
            "style": "IPY_MODEL_bb0b484d24b247ae99a6401e122ad651",
            "value": 4542
          }
        },
        "281ea25c73714bda92cff51151f5d01b": {
          "model_module": "@jupyter-widgets/controls",
          "model_name": "HTMLModel",
          "model_module_version": "1.5.0",
          "state": {
            "_dom_classes": [],
            "_model_module": "@jupyter-widgets/controls",
            "_model_module_version": "1.5.0",
            "_model_name": "HTMLModel",
            "_view_count": null,
            "_view_module": "@jupyter-widgets/controls",
            "_view_module_version": "1.5.0",
            "_view_name": "HTMLView",
            "description": "",
            "description_tooltip": null,
            "layout": "IPY_MODEL_3f1f6c43e0a14c3fa60b43291b823fe1",
            "placeholder": "​",
            "style": "IPY_MODEL_29dbb467e1cc44a69cebe5d35210a8f9",
            "value": " 5120/? [00:00&lt;00:00, 8729.36it/s]"
          }
        },
        "79a907bef40146ab9c6e1b195abb54a8": {
          "model_module": "@jupyter-widgets/base",
          "model_name": "LayoutModel",
          "model_module_version": "1.2.0",
          "state": {
            "_model_module": "@jupyter-widgets/base",
            "_model_module_version": "1.2.0",
            "_model_name": "LayoutModel",
            "_view_count": null,
            "_view_module": "@jupyter-widgets/base",
            "_view_module_version": "1.2.0",
            "_view_name": "LayoutView",
            "align_content": null,
            "align_items": null,
            "align_self": null,
            "border": null,
            "bottom": null,
            "display": null,
            "flex": null,
            "flex_flow": null,
            "grid_area": null,
            "grid_auto_columns": null,
            "grid_auto_flow": null,
            "grid_auto_rows": null,
            "grid_column": null,
            "grid_gap": null,
            "grid_row": null,
            "grid_template_areas": null,
            "grid_template_columns": null,
            "grid_template_rows": null,
            "height": null,
            "justify_content": null,
            "justify_items": null,
            "left": null,
            "margin": null,
            "max_height": null,
            "max_width": null,
            "min_height": null,
            "min_width": null,
            "object_fit": null,
            "object_position": null,
            "order": null,
            "overflow": null,
            "overflow_x": null,
            "overflow_y": null,
            "padding": null,
            "right": null,
            "top": null,
            "visibility": null,
            "width": null
          }
        },
        "1e388fa21fb24e329128b3539ba136e4": {
          "model_module": "@jupyter-widgets/base",
          "model_name": "LayoutModel",
          "model_module_version": "1.2.0",
          "state": {
            "_model_module": "@jupyter-widgets/base",
            "_model_module_version": "1.2.0",
            "_model_name": "LayoutModel",
            "_view_count": null,
            "_view_module": "@jupyter-widgets/base",
            "_view_module_version": "1.2.0",
            "_view_name": "LayoutView",
            "align_content": null,
            "align_items": null,
            "align_self": null,
            "border": null,
            "bottom": null,
            "display": null,
            "flex": null,
            "flex_flow": null,
            "grid_area": null,
            "grid_auto_columns": null,
            "grid_auto_flow": null,
            "grid_auto_rows": null,
            "grid_column": null,
            "grid_gap": null,
            "grid_row": null,
            "grid_template_areas": null,
            "grid_template_columns": null,
            "grid_template_rows": null,
            "height": null,
            "justify_content": null,
            "justify_items": null,
            "left": null,
            "margin": null,
            "max_height": null,
            "max_width": null,
            "min_height": null,
            "min_width": null,
            "object_fit": null,
            "object_position": null,
            "order": null,
            "overflow": null,
            "overflow_x": null,
            "overflow_y": null,
            "padding": null,
            "right": null,
            "top": null,
            "visibility": null,
            "width": null
          }
        },
        "66e9de57cebc4d80b39cff9441b377b7": {
          "model_module": "@jupyter-widgets/controls",
          "model_name": "DescriptionStyleModel",
          "model_module_version": "1.5.0",
          "state": {
            "_model_module": "@jupyter-widgets/controls",
            "_model_module_version": "1.5.0",
            "_model_name": "DescriptionStyleModel",
            "_view_count": null,
            "_view_module": "@jupyter-widgets/base",
            "_view_module_version": "1.2.0",
            "_view_name": "StyleView",
            "description_width": ""
          }
        },
        "e143471c22e44e1a855eb63b63f74f9b": {
          "model_module": "@jupyter-widgets/base",
          "model_name": "LayoutModel",
          "model_module_version": "1.2.0",
          "state": {
            "_model_module": "@jupyter-widgets/base",
            "_model_module_version": "1.2.0",
            "_model_name": "LayoutModel",
            "_view_count": null,
            "_view_module": "@jupyter-widgets/base",
            "_view_module_version": "1.2.0",
            "_view_name": "LayoutView",
            "align_content": null,
            "align_items": null,
            "align_self": null,
            "border": null,
            "bottom": null,
            "display": null,
            "flex": null,
            "flex_flow": null,
            "grid_area": null,
            "grid_auto_columns": null,
            "grid_auto_flow": null,
            "grid_auto_rows": null,
            "grid_column": null,
            "grid_gap": null,
            "grid_row": null,
            "grid_template_areas": null,
            "grid_template_columns": null,
            "grid_template_rows": null,
            "height": null,
            "justify_content": null,
            "justify_items": null,
            "left": null,
            "margin": null,
            "max_height": null,
            "max_width": null,
            "min_height": null,
            "min_width": null,
            "object_fit": null,
            "object_position": null,
            "order": null,
            "overflow": null,
            "overflow_x": null,
            "overflow_y": null,
            "padding": null,
            "right": null,
            "top": null,
            "visibility": null,
            "width": null
          }
        },
        "bb0b484d24b247ae99a6401e122ad651": {
          "model_module": "@jupyter-widgets/controls",
          "model_name": "ProgressStyleModel",
          "model_module_version": "1.5.0",
          "state": {
            "_model_module": "@jupyter-widgets/controls",
            "_model_module_version": "1.5.0",
            "_model_name": "ProgressStyleModel",
            "_view_count": null,
            "_view_module": "@jupyter-widgets/base",
            "_view_module_version": "1.2.0",
            "_view_name": "StyleView",
            "bar_color": null,
            "description_width": ""
          }
        },
        "3f1f6c43e0a14c3fa60b43291b823fe1": {
          "model_module": "@jupyter-widgets/base",
          "model_name": "LayoutModel",
          "model_module_version": "1.2.0",
          "state": {
            "_model_module": "@jupyter-widgets/base",
            "_model_module_version": "1.2.0",
            "_model_name": "LayoutModel",
            "_view_count": null,
            "_view_module": "@jupyter-widgets/base",
            "_view_module_version": "1.2.0",
            "_view_name": "LayoutView",
            "align_content": null,
            "align_items": null,
            "align_self": null,
            "border": null,
            "bottom": null,
            "display": null,
            "flex": null,
            "flex_flow": null,
            "grid_area": null,
            "grid_auto_columns": null,
            "grid_auto_flow": null,
            "grid_auto_rows": null,
            "grid_column": null,
            "grid_gap": null,
            "grid_row": null,
            "grid_template_areas": null,
            "grid_template_columns": null,
            "grid_template_rows": null,
            "height": null,
            "justify_content": null,
            "justify_items": null,
            "left": null,
            "margin": null,
            "max_height": null,
            "max_width": null,
            "min_height": null,
            "min_width": null,
            "object_fit": null,
            "object_position": null,
            "order": null,
            "overflow": null,
            "overflow_x": null,
            "overflow_y": null,
            "padding": null,
            "right": null,
            "top": null,
            "visibility": null,
            "width": null
          }
        },
        "29dbb467e1cc44a69cebe5d35210a8f9": {
          "model_module": "@jupyter-widgets/controls",
          "model_name": "DescriptionStyleModel",
          "model_module_version": "1.5.0",
          "state": {
            "_model_module": "@jupyter-widgets/controls",
            "_model_module_version": "1.5.0",
            "_model_name": "DescriptionStyleModel",
            "_view_count": null,
            "_view_module": "@jupyter-widgets/base",
            "_view_module_version": "1.2.0",
            "_view_name": "StyleView",
            "description_width": ""
          }
        }
      }
    }
  },
  "cells": [
    {
      "cell_type": "markdown",
      "source": [
        "**import libraries**"
      ],
      "metadata": {
        "id": "beTV3gg27Ft3"
      }
    },
    {
      "cell_type": "code",
      "execution_count": 1,
      "metadata": {
        "id": "_WUAHE4-0V00"
      },
      "outputs": [],
      "source": [
        "import torch, torchvision\n",
        "from torch import nn\n",
        "from torch import optim\n",
        "from torchvision.transforms import ToTensor\n",
        "import torch.nn.functional as F \n",
        "import matplotlib.pyplot as plt\n",
        "import copy\n",
        "\n",
        "from sklearn.metrics import confusion_matrix\n",
        "import pandas as pd\n",
        "import numpy as np\n",
        "\n",
        "#because we used images from the internet so we need request\n",
        "import requests\n",
        "from PIL import Image\n",
        "from io import BytesIO\n",
        "\n"
      ]
    },
    {
      "cell_type": "code",
      "source": [
        "#The batch size is a hyperparameter that defines the number of samples to work through before updating the internal model parameters.\n",
        "#Think of a batch as a for-loop iterating over one or more samples and making predictions.\n",
        "numb_batch = 64"
      ],
      "metadata": {
        "id": "U6QBDZxd5pF4"
      },
      "execution_count": 2,
      "outputs": []
    },
    {
      "cell_type": "markdown",
      "source": [
        "**Getting Data**"
      ],
      "metadata": {
        "id": "Hp4MM4uA9_5F"
      }
    },
    {
      "cell_type": "code",
      "source": [
        "#We need to transform the image into a tensor that can be used, so we do torchvision.transforms.ToTensor().\n",
        "T = torchvision.transforms.Compose([\n",
        "    torchvision.transforms.ToTensor()\n",
        "])\n",
        "\n",
        "train_data=torchvision.datasets.MNIST(\"mnist_data\", train=True, download=True, transform=T)\n",
        "val_data=torchvision.datasets.MNIST(\"mnist_data\", train=False, download=True, transform=T)#difference is that we will not train this it's for validation \n",
        "\n",
        "#We also need the dataloaders for each dataset and set the batch size to the wanted number, 64.\n",
        "train_dl = torch.utils.data.DataLoader(train_data, batch_size = numb_batch)\n",
        "val_dl = torch.utils.data.DataLoader(val_data, batch_size = numb_batch)\n"
      ],
      "metadata": {
        "colab": {
          "base_uri": "https://localhost:8080/",
          "height": 442,
          "referenced_widgets": [
            "f3c46ff6585e4ecf8ba6767c89895baf",
            "053fb6f7c9c4445a9bc2e63d4606f4a4",
            "1a21314ddcff4923ad07c698f92a86e7",
            "1ca3f270142b432781482c32d62f802d",
            "f0c0bfacb3ec4cd881b58dab68c3133a",
            "1a8ae1cd58b7491c8859cad41a229bc7",
            "3b1a0c5ec23c4f2689834415a01d268c",
            "3cfb0e84623349c8a386eb7905cf155b",
            "7e4d3b6577c64d929541e16eec6f4053",
            "ea38ee7c9efd4f4f88d840a55ccaeb20",
            "c7508f91fbda4efe9b2b567aebb76795",
            "5d79bdcc530a4cb8b880ab9b757ff339",
            "4ca5bca47ccd4b809654632f0b46d9ba",
            "e4cb135b1198488fa3039d69c3c7d5a2",
            "724c65d6aa7c4dd5a429f7f455935fc1",
            "15e207dd5a344eb496a4fc9025b3fe75",
            "b6a5afec7ca74b51b112a9050172a5f8",
            "a542a9f3884e42a5b3abcea3a7a75335",
            "c4b8a02d9dc14b8eba74bd846aa502d1",
            "298dc758a57c485f9e418a42e0a735fc",
            "8561ea5b1f85482fbdd97d12156ab966",
            "8fe117e87284499e8846dd96f07968aa",
            "8f726b64e9544433a55365f0875bd965",
            "f38bf735f862400ab3b4e2a3efef7f1d",
            "fb74c236b1e647efa447868353415b2f",
            "b5b792ee6ad54e19ae9bf7d8e6955684",
            "8688068736684febaa5c87f3254f2f7a",
            "81c0a17ef9d14699aa018b5bf4bed79d",
            "86d128e44b0c4ff0bcf4b6dca2888884",
            "1a58567e138044839baf506671b63273",
            "325bd892bd7f4bbf888a186698ef0347",
            "5cb32a38f51a459f8b24b48d55a27ec4",
            "f878eb39de8d420bb4aebc8eb04101e9",
            "f5af1920ae0d4ccb915164e886233a8e",
            "752802379e7e47ea8b918d80a84aa610",
            "ce81736dadac4ef089d502fcd769c6af",
            "281ea25c73714bda92cff51151f5d01b",
            "79a907bef40146ab9c6e1b195abb54a8",
            "1e388fa21fb24e329128b3539ba136e4",
            "66e9de57cebc4d80b39cff9441b377b7",
            "e143471c22e44e1a855eb63b63f74f9b",
            "bb0b484d24b247ae99a6401e122ad651",
            "3f1f6c43e0a14c3fa60b43291b823fe1",
            "29dbb467e1cc44a69cebe5d35210a8f9"
          ]
        },
        "id": "QmE_ZeC36-f6",
        "outputId": "09bb56e4-6a57-4ed8-dea9-a7c59229a9b7"
      },
      "execution_count": 3,
      "outputs": [
        {
          "output_type": "stream",
          "name": "stdout",
          "text": [
            "Downloading http://yann.lecun.com/exdb/mnist/train-images-idx3-ubyte.gz\n",
            "Downloading http://yann.lecun.com/exdb/mnist/train-images-idx3-ubyte.gz to mnist_data/MNIST/raw/train-images-idx3-ubyte.gz\n"
          ]
        },
        {
          "output_type": "display_data",
          "data": {
            "text/plain": [
              "  0%|          | 0/9912422 [00:00<?, ?it/s]"
            ],
            "application/vnd.jupyter.widget-view+json": {
              "version_major": 2,
              "version_minor": 0,
              "model_id": "f3c46ff6585e4ecf8ba6767c89895baf"
            }
          },
          "metadata": {}
        },
        {
          "output_type": "stream",
          "name": "stdout",
          "text": [
            "Extracting mnist_data/MNIST/raw/train-images-idx3-ubyte.gz to mnist_data/MNIST/raw\n",
            "\n",
            "Downloading http://yann.lecun.com/exdb/mnist/train-labels-idx1-ubyte.gz\n",
            "Downloading http://yann.lecun.com/exdb/mnist/train-labels-idx1-ubyte.gz to mnist_data/MNIST/raw/train-labels-idx1-ubyte.gz\n"
          ]
        },
        {
          "output_type": "display_data",
          "data": {
            "text/plain": [
              "  0%|          | 0/28881 [00:00<?, ?it/s]"
            ],
            "application/vnd.jupyter.widget-view+json": {
              "version_major": 2,
              "version_minor": 0,
              "model_id": "5d79bdcc530a4cb8b880ab9b757ff339"
            }
          },
          "metadata": {}
        },
        {
          "output_type": "stream",
          "name": "stdout",
          "text": [
            "Extracting mnist_data/MNIST/raw/train-labels-idx1-ubyte.gz to mnist_data/MNIST/raw\n",
            "\n",
            "Downloading http://yann.lecun.com/exdb/mnist/t10k-images-idx3-ubyte.gz\n",
            "Downloading http://yann.lecun.com/exdb/mnist/t10k-images-idx3-ubyte.gz to mnist_data/MNIST/raw/t10k-images-idx3-ubyte.gz\n"
          ]
        },
        {
          "output_type": "display_data",
          "data": {
            "text/plain": [
              "  0%|          | 0/1648877 [00:00<?, ?it/s]"
            ],
            "application/vnd.jupyter.widget-view+json": {
              "version_major": 2,
              "version_minor": 0,
              "model_id": "8f726b64e9544433a55365f0875bd965"
            }
          },
          "metadata": {}
        },
        {
          "output_type": "stream",
          "name": "stdout",
          "text": [
            "Extracting mnist_data/MNIST/raw/t10k-images-idx3-ubyte.gz to mnist_data/MNIST/raw\n",
            "\n",
            "Downloading http://yann.lecun.com/exdb/mnist/t10k-labels-idx1-ubyte.gz\n",
            "Downloading http://yann.lecun.com/exdb/mnist/t10k-labels-idx1-ubyte.gz to mnist_data/MNIST/raw/t10k-labels-idx1-ubyte.gz\n"
          ]
        },
        {
          "output_type": "display_data",
          "data": {
            "text/plain": [
              "  0%|          | 0/4542 [00:00<?, ?it/s]"
            ],
            "application/vnd.jupyter.widget-view+json": {
              "version_major": 2,
              "version_minor": 0,
              "model_id": "f5af1920ae0d4ccb915164e886233a8e"
            }
          },
          "metadata": {}
        },
        {
          "output_type": "stream",
          "name": "stdout",
          "text": [
            "Extracting mnist_data/MNIST/raw/t10k-labels-idx1-ubyte.gz to mnist_data/MNIST/raw\n",
            "\n"
          ]
        }
      ]
    },
    {
      "cell_type": "code",
      "source": [
        "#show data sample \n",
        "plt.imshow(train_data[0][0][0])"
      ],
      "metadata": {
        "colab": {
          "base_uri": "https://localhost:8080/",
          "height": 282
        },
        "id": "nCvJmIkSCzKI",
        "outputId": "e82c2762-7fbc-4813-9ae7-e7fc421f586c"
      },
      "execution_count": 4,
      "outputs": [
        {
          "output_type": "execute_result",
          "data": {
            "text/plain": [
              "<matplotlib.image.AxesImage at 0x7f7bbb704410>"
            ]
          },
          "metadata": {},
          "execution_count": 4
        },
        {
          "output_type": "display_data",
          "data": {
            "text/plain": [
              "<Figure size 432x288 with 1 Axes>"
            ],
            "image/png": "[encoded data removed]"
          },
          "metadata": {
            "needs_background": "light"
          }
        }
      ]
    },
    {
      "cell_type": "code",
      "source": [
        "plt.imshow(train_data[0][0][0], cmap=\"gray\")"
      ],
      "metadata": {
        "colab": {
          "base_uri": "https://localhost:8080/",
          "height": 282
        },
        "id": "7SJzRJd2C-V7",
        "outputId": "e4c349e4-2d0f-4a39-e475-4d1ed9b6582d"
      },
      "execution_count": 5,
      "outputs": [
        {
          "output_type": "execute_result",
          "data": {
            "text/plain": [
              "<matplotlib.image.AxesImage at 0x7f7bbb1b75d0>"
            ]
          },
          "metadata": {},
          "execution_count": 5
        },
        {
          "output_type": "display_data",
          "data": {
            "text/plain": [
              "<Figure size 432x288 with 1 Axes>"
            ],
            "image/png": "[encoded data removed]"
          },
          "metadata": {
            "needs_background": "light"
          }
        }
      ]
    },
    {
      "cell_type": "markdown",
      "source": [
        "**Create model**"
      ],
      "metadata": {
        "id": "aH4daVzZFAff"
      }
    },
    {
      "cell_type": "code",
      "source": [
        "#For the Mnist dataset, we will be using the LeNet 5 architecture\n",
        "def create_lenet():\n",
        "    model = nn.Sequential(\n",
        "        nn.Conv2d(1, 6, 5, padding=2),\n",
        "        nn.ReLU(),\n",
        "        nn.AvgPool2d(2, stride=2),\n",
        "        nn.Conv2d(6, 16, 5, padding=0),\n",
        "        nn.ReLU(),\n",
        "        nn.AvgPool2d(2, stride=2),\n",
        "        nn.Flatten(),\n",
        "        nn.Linear(400, 120),\n",
        "        nn.ReLU(),\n",
        "        nn.Linear(120, 84),\n",
        "        nn.ReLU(),\n",
        "        nn.Linear(84, 10)\n",
        "    )\n",
        "    return model"
      ],
      "metadata": {
        "id": "rYmTR0FOErFA"
      },
      "execution_count": 6,
      "outputs": []
    },
    {
      "cell_type": "markdown",
      "source": [
        "**Validate model**"
      ],
      "metadata": {
        "id": "IlGHQeKhHHAg"
      }
    },
    {
      "cell_type": "code",
      "source": [
        "def validate(model, data):\n",
        "    total = 0\n",
        "    correct = 0\n",
        "    for i, (images, labels) in enumerate(data):\n",
        "        images = images.cuda()\n",
        "        x = model(images)\n",
        "        value, pred = torch.max(x,1)\n",
        "        pred = pred.data.cpu()\n",
        "        total += x.size(0)\n",
        "        correct += torch.sum(pred == labels)\n",
        "    return correct*100./total"
      ],
      "metadata": {
        "id": "PGgXBEhHHK8w"
      },
      "execution_count": 7,
      "outputs": []
    },
    {
      "cell_type": "markdown",
      "source": [
        "**Training function**"
      ],
      "metadata": {
        "id": "TpjQEmfOH-rx"
      }
    },
    {
      "cell_type": "code",
      "source": [
        "def train(numb_epoch=3, lr=1e-3, device=\"cpu\"):\n",
        "    accuracies = []\n",
        "    cnn = create_lenet().to(device)\n",
        "    cec = nn.CrossEntropyLoss()\n",
        "    optimizer = optim.Adam(cnn.parameters(), lr=lr)\n",
        "    max_accuracy = 0\n",
        "    for epoch in range(numb_epoch):\n",
        "        for i, (images, labels) in enumerate(train_dl):\n",
        "            images = images.to(device)\n",
        "            labels = labels.to(device)\n",
        "            optimizer.zero_grad()\n",
        "            pred = cnn(images)\n",
        "            loss = cec(pred, labels)\n",
        "            loss.backward()\n",
        "            optimizer.step()\n",
        "        accuracy = float(validate(cnn, val_dl))\n",
        "        accuracies.append(accuracy)\n",
        "        if accuracy > max_accuracy:\n",
        "            best_model = copy.deepcopy(cnn)\n",
        "            max_accuracy = accuracy\n",
        "            print(\"Saving Best Model with Accuracy: \", accuracy)\n",
        "        print('Epoch:', epoch+1, \"Accuracy :\", accuracy, '%')\n",
        "    plt.plot(accuracies)\n",
        "    return best_model"
      ],
      "metadata": {
        "id": "Uf2YYcLgH9c5"
      },
      "execution_count": 8,
      "outputs": []
    },
    {
      "cell_type": "markdown",
      "source": [
        "**Gpu availability**"
      ],
      "metadata": {
        "id": "f5Y4xJ4sJMPl"
      }
    },
    {
      "cell_type": "code",
      "source": [
        "if torch.cuda.is_available():\n",
        "    device = torch.device(\"cuda:0\")\n",
        "else:\n",
        "    device = torch.device(\"cpu\")\n",
        "    print(\"No Cuda Available\")\n",
        "device"
      ],
      "metadata": {
        "colab": {
          "base_uri": "https://localhost:8080/"
        },
        "id": "-Qvv0-c0JJzB",
        "outputId": "94762cbe-2a4b-4644-b507-90980e373bda"
      },
      "execution_count": 9,
      "outputs": [
        {
          "output_type": "execute_result",
          "data": {
            "text/plain": [
              "device(type='cuda', index=0)"
            ]
          },
          "metadata": {},
          "execution_count": 9
        }
      ]
    },
    {
      "cell_type": "markdown",
      "source": [
        "**Training the model**"
      ],
      "metadata": {
        "id": "-qS04UUUJxWt"
      }
    },
    {
      "cell_type": "code",
      "source": [
        "lenet = train(40, device=device)"
      ],
      "metadata": {
        "colab": {
          "base_uri": "https://localhost:8080/",
          "height": 1000
        },
        "id": "nJiG9jnjJcF6",
        "outputId": "f3c5e1d8-4b5f-4e6a-911e-493c3fc982b0"
      },
      "execution_count": 10,
      "outputs": [
        {
          "output_type": "stream",
          "name": "stdout",
          "text": [
            "Saving Best Model with Accuracy:  95.4800033569336\n",
            "Epoch: 1 Accuracy : 95.4800033569336 %\n",
            "Saving Best Model with Accuracy:  97.2300033569336\n",
            "Epoch: 2 Accuracy : 97.2300033569336 %\n",
            "Saving Best Model with Accuracy:  97.88999938964844\n",
            "Epoch: 3 Accuracy : 97.88999938964844 %\n",
            "Saving Best Model with Accuracy:  98.18000030517578\n",
            "Epoch: 4 Accuracy : 98.18000030517578 %\n",
            "Saving Best Model with Accuracy:  98.69000244140625\n",
            "Epoch: 5 Accuracy : 98.69000244140625 %\n",
            "Epoch: 6 Accuracy : 98.37999725341797 %\n",
            "Saving Best Model with Accuracy:  98.72000122070312\n",
            "Epoch: 7 Accuracy : 98.72000122070312 %\n",
            "Saving Best Model with Accuracy:  98.75\n",
            "Epoch: 8 Accuracy : 98.75 %\n",
            "Saving Best Model with Accuracy:  98.80000305175781\n",
            "Epoch: 9 Accuracy : 98.80000305175781 %\n",
            "Epoch: 10 Accuracy : 98.7300033569336 %\n",
            "Epoch: 11 Accuracy : 98.79000091552734 %\n",
            "Epoch: 12 Accuracy : 98.61000061035156 %\n",
            "Saving Best Model with Accuracy:  98.8499984741211\n",
            "Epoch: 13 Accuracy : 98.8499984741211 %\n",
            "Saving Best Model with Accuracy:  98.91999816894531\n",
            "Epoch: 14 Accuracy : 98.91999816894531 %\n",
            "Saving Best Model with Accuracy:  98.97000122070312\n",
            "Epoch: 15 Accuracy : 98.97000122070312 %\n",
            "Epoch: 16 Accuracy : 98.87999725341797 %\n",
            "Epoch: 17 Accuracy : 98.95999908447266 %\n",
            "Epoch: 18 Accuracy : 98.93000030517578 %\n",
            "Epoch: 19 Accuracy : 98.91999816894531 %\n",
            "Epoch: 20 Accuracy : 98.83000183105469 %\n",
            "Epoch: 21 Accuracy : 98.68000030517578 %\n",
            "Epoch: 22 Accuracy : 98.87000274658203 %\n",
            "Saving Best Model with Accuracy:  99.04000091552734\n",
            "Epoch: 23 Accuracy : 99.04000091552734 %\n",
            "Epoch: 24 Accuracy : 99.0 %\n",
            "Epoch: 25 Accuracy : 98.66000366210938 %\n",
            "Epoch: 26 Accuracy : 98.73999786376953 %\n",
            "Epoch: 27 Accuracy : 98.94999694824219 %\n",
            "Epoch: 28 Accuracy : 98.91999816894531 %\n",
            "Epoch: 29 Accuracy : 98.9800033569336 %\n",
            "Epoch: 30 Accuracy : 99.0199966430664 %\n",
            "Epoch: 31 Accuracy : 98.80000305175781 %\n",
            "Epoch: 32 Accuracy : 98.83999633789062 %\n",
            "Epoch: 33 Accuracy : 98.87000274658203 %\n",
            "Epoch: 34 Accuracy : 99.04000091552734 %\n",
            "Epoch: 35 Accuracy : 98.70999908447266 %\n",
            "Epoch: 36 Accuracy : 98.91999816894531 %\n",
            "Epoch: 37 Accuracy : 98.9000015258789 %\n",
            "Epoch: 38 Accuracy : 98.98999786376953 %\n",
            "Epoch: 39 Accuracy : 98.88999938964844 %\n",
            "Epoch: 40 Accuracy : 98.88999938964844 %\n"
          ]
        },
        {
          "output_type": "display_data",
          "data": {
            "text/plain": [
              "<Figure size 432x288 with 1 Axes>"
            ],
            "image/png": "[encoded data removed]"
          },
          "metadata": {
            "needs_background": "light"
          }
        }
      ]
    },
    {
      "cell_type": "markdown",
      "source": [
        "**Creating the Function to test validation data**"
      ],
      "metadata": {
        "id": "bQqqrlCQVW0I"
      }
    },
    {
      "cell_type": "code",
      "source": [
        "def predict_dl(model, data):\n",
        "    y_pred = []\n",
        "    y_true = []\n",
        "    for i, (images, labels) in enumerate(data):\n",
        "        images = images.cuda()\n",
        "        x = model(images)\n",
        "        value, pred = torch.max(x, 1)\n",
        "        pred = pred.data.cpu()\n",
        "        y_pred.extend(list(pred.numpy()))\n",
        "        y_true.extend(list(labels.numpy()))\n",
        "    return np.array(y_pred), np.array(y_true)"
      ],
      "metadata": {
        "id": "O70LmE-AUznP"
      },
      "execution_count": 11,
      "outputs": []
    },
    {
      "cell_type": "code",
      "source": [
        "y_pred, y_true = predict_dl(lenet, val_dl)"
      ],
      "metadata": {
        "id": "sdEDPRHnKgfR"
      },
      "execution_count": 12,
      "outputs": []
    },
    {
      "cell_type": "code",
      "source": [
        "pd.DataFrame(confusion_matrix(y_true, y_pred, labels=np.arange(0,10)))"
      ],
      "metadata": {
        "colab": {
          "base_uri": "https://localhost:8080/",
          "height": 363
        },
        "id": "HwBWyATjWQTB",
        "outputId": "95602e64-c78b-4113-9fee-06717e0f5c99"
      },
      "execution_count": 13,
      "outputs": [
        {
          "output_type": "execute_result",
          "data": {
            "text/plain": [
              "     0     1     2    3    4    5    6     7    8    9\n",
              "0  975     1     0    0    0    0    2     1    1    0\n",
              "1    0  1134     0    0    0    0    0     0    1    0\n",
              "2    3     1  1027    0    0    0    0     0    1    0\n",
              "3    0     0     1  999    0    3    0     3    3    1\n",
              "4    0     0     1    0  977    0    2     0    0    2\n",
              "5    2     1     0    7    0  880    1     0    1    0\n",
              "6    3     3     1    0    0    1  949     0    1    0\n",
              "7    1     1     5    1    0    0    0  1018    1    1\n",
              "8    2     0     1    1    1    1    0     1  966    1\n",
              "9    1     2     0    0   11    6    1     5    4  979"
            ],
            "text/html": [
              "\n",
              "  <div id=\"df-33bcb592-fb2e-421b-857e-a44cc969ae9b\">\n",
              "    <div class=\"colab-df-container\">\n",
              "      <div>\n",
              "<style scoped>\n",
              "    .dataframe tbody tr th:only-of-type {\n",
              "        vertical-align: middle;\n",
              "    }\n",
              "\n",
              "    .dataframe tbody tr th {\n",
              "        vertical-align: top;\n",
              "    }\n",
              "\n",
              "    .dataframe thead th {\n",
              "        text-align: right;\n",
              "    }\n",
              "</style>\n",
              "<table border=\"1\" class=\"dataframe\">\n",
              "  <thead>\n",
              "    <tr style=\"text-align: right;\">\n",
              "      <th></th>\n",
              "      <th>0</th>\n",
              "      <th>1</th>\n",
              "      <th>2</th>\n",
              "      <th>3</th>\n",
              "      <th>4</th>\n",
              "      <th>5</th>\n",
              "      <th>6</th>\n",
              "      <th>7</th>\n",
              "      <th>8</th>\n",
              "      <th>9</th>\n",
              "    </tr>\n",
              "  </thead>\n",
              "  <tbody>\n",
              "    <tr>\n",
              "      <th>0</th>\n",
              "      <td>975</td>\n",
              "      <td>1</td>\n",
              "      <td>0</td>\n",
              "      <td>0</td>\n",
              "      <td>0</td>\n",
              "      <td>0</td>\n",
              "      <td>2</td>\n",
              "      <td>1</td>\n",
              "      <td>1</td>\n",
              "      <td>0</td>\n",
              "    </tr>\n",
              "    <tr>\n",
              "      <th>1</th>\n",
              "      <td>0</td>\n",
              "      <td>1134</td>\n",
              "      <td>0</td>\n",
              "      <td>0</td>\n",
              "      <td>0</td>\n",
              "      <td>0</td>\n",
              "      <td>0</td>\n",
              "      <td>0</td>\n",
              "      <td>1</td>\n",
              "      <td>0</td>\n",
              "    </tr>\n",
              "    <tr>\n",
              "      <th>2</th>\n",
              "      <td>3</td>\n",
              "      <td>1</td>\n",
              "      <td>1027</td>\n",
              "      <td>0</td>\n",
              "      <td>0</td>\n",
              "      <td>0</td>\n",
              "      <td>0</td>\n",
              "      <td>0</td>\n",
              "      <td>1</td>\n",
              "      <td>0</td>\n",
              "    </tr>\n",
              "    <tr>\n",
              "      <th>3</th>\n",
              "      <td>0</td>\n",
              "      <td>0</td>\n",
              "      <td>1</td>\n",
              "      <td>999</td>\n",
              "      <td>0</td>\n",
              "      <td>3</td>\n",
              "      <td>0</td>\n",
              "      <td>3</td>\n",
              "      <td>3</td>\n",
              "      <td>1</td>\n",
              "    </tr>\n",
              "    <tr>\n",
              "      <th>4</th>\n",
              "      <td>0</td>\n",
              "      <td>0</td>\n",
              "      <td>1</td>\n",
              "      <td>0</td>\n",
              "      <td>977</td>\n",
              "      <td>0</td>\n",
              "      <td>2</td>\n",
              "      <td>0</td>\n",
              "      <td>0</td>\n",
              "      <td>2</td>\n",
              "    </tr>\n",
              "    <tr>\n",
              "      <th>5</th>\n",
              "      <td>2</td>\n",
              "      <td>1</td>\n",
              "      <td>0</td>\n",
              "      <td>7</td>\n",
              "      <td>0</td>\n",
              "      <td>880</td>\n",
              "      <td>1</td>\n",
              "      <td>0</td>\n",
              "      <td>1</td>\n",
              "      <td>0</td>\n",
              "    </tr>\n",
              "    <tr>\n",
              "      <th>6</th>\n",
              "      <td>3</td>\n",
              "      <td>3</td>\n",
              "      <td>1</td>\n",
              "      <td>0</td>\n",
              "      <td>0</td>\n",
              "      <td>1</td>\n",
              "      <td>949</td>\n",
              "      <td>0</td>\n",
              "      <td>1</td>\n",
              "      <td>0</td>\n",
              "    </tr>\n",
              "    <tr>\n",
              "      <th>7</th>\n",
              "      <td>1</td>\n",
              "      <td>1</td>\n",
              "      <td>5</td>\n",
              "      <td>1</td>\n",
              "      <td>0</td>\n",
              "      <td>0</td>\n",
              "      <td>0</td>\n",
              "      <td>1018</td>\n",
              "      <td>1</td>\n",
              "      <td>1</td>\n",
              "    </tr>\n",
              "    <tr>\n",
              "      <th>8</th>\n",
              "      <td>2</td>\n",
              "      <td>0</td>\n",
              "      <td>1</td>\n",
              "      <td>1</td>\n",
              "      <td>1</td>\n",
              "      <td>1</td>\n",
              "      <td>0</td>\n",
              "      <td>1</td>\n",
              "      <td>966</td>\n",
              "      <td>1</td>\n",
              "    </tr>\n",
              "    <tr>\n",
              "      <th>9</th>\n",
              "      <td>1</td>\n",
              "      <td>2</td>\n",
              "      <td>0</td>\n",
              "      <td>0</td>\n",
              "      <td>11</td>\n",
              "      <td>6</td>\n",
              "      <td>1</td>\n",
              "      <td>5</td>\n",
              "      <td>4</td>\n",
              "      <td>979</td>\n",
              "    </tr>\n",
              "  </tbody>\n",
              "</table>\n",
              "</div>\n",
              "      <button class=\"colab-df-convert\" onclick=\"convertToInteractive('df-33bcb592-fb2e-421b-857e-a44cc969ae9b')\"\n",
              "              title=\"Convert this dataframe to an interactive table.\"\n",
              "              style=\"display:none;\">\n",
              "        \n",
              "  <svg xmlns=\"http://www.w3.org/2000/svg\" height=\"24px\"viewBox=\"0 0 24 24\"\n",
              "       width=\"24px\">\n",
              "    <path d=\"M0 0h24v24H0V0z\" fill=\"none\"/>\n",
              "    <path d=\"M18.56 5.44l.94 2.06.94-2.06 2.06-.94-2.06-.94-.94-2.06-.94 2.06-2.06.94zm-11 1L8.5 8.5l.94-2.06 2.06-.94-2.06-.94L8.5 2.5l-.94 2.06-2.06.94zm10 10l.94 2.06.94-2.06 2.06-.94-2.06-.94-.94-2.06-.94 2.06-2.06.94z\"/><path d=\"M17.41 7.96l-1.37-1.37c-.4-.4-.92-.59-1.43-.59-.52 0-1.04.2-1.43.59L10.3 9.45l-7.72 7.72c-.78.78-.78 2.05 0 2.83L4 21.41c.39.39.9.59 1.41.59.51 0 1.02-.2 1.41-.59l7.78-7.78 2.81-2.81c.8-.78.8-2.07 0-2.86zM5.41 20L4 18.59l7.72-7.72 1.47 1.35L5.41 20z\"/>\n",
              "  </svg>\n",
              "      </button>\n",
              "      \n",
              "  <style>\n",
              "    .colab-df-container {\n",
              "      display:flex;\n",
              "      flex-wrap:wrap;\n",
              "      gap: 12px;\n",
              "    }\n",
              "\n",
              "    .colab-df-convert {\n",
              "      background-color: #E8F0FE;\n",
              "      border: none;\n",
              "      border-radius: 50%;\n",
              "      cursor: pointer;\n",
              "      display: none;\n",
              "      fill: #1967D2;\n",
              "      height: 32px;\n",
              "      padding: 0 0 0 0;\n",
              "      width: 32px;\n",
              "    }\n",
              "\n",
              "    .colab-df-convert:hover {\n",
              "      background-color: #E2EBFA;\n",
              "      box-shadow: 0px 1px 2px rgba(60, 64, 67, 0.3), 0px 1px 3px 1px rgba(60, 64, 67, 0.15);\n",
              "      fill: #174EA6;\n",
              "    }\n",
              "\n",
              "    [theme=dark] .colab-df-convert {\n",
              "      background-color: #3B4455;\n",
              "      fill: #D2E3FC;\n",
              "    }\n",
              "\n",
              "    [theme=dark] .colab-df-convert:hover {\n",
              "      background-color: #434B5C;\n",
              "      box-shadow: 0px 1px 3px 1px rgba(0, 0, 0, 0.15);\n",
              "      filter: drop-shadow(0px 1px 2px rgba(0, 0, 0, 0.3));\n",
              "      fill: #FFFFFF;\n",
              "    }\n",
              "  </style>\n",
              "\n",
              "      <script>\n",
              "        const buttonEl =\n",
              "          document.querySelector('#df-33bcb592-fb2e-421b-857e-a44cc969ae9b button.colab-df-convert');\n",
              "        buttonEl.style.display =\n",
              "          google.colab.kernel.accessAllowed ? 'block' : 'none';\n",
              "\n",
              "        async function convertToInteractive(key) {\n",
              "          const element = document.querySelector('#df-33bcb592-fb2e-421b-857e-a44cc969ae9b');\n",
              "          const dataTable =\n",
              "            await google.colab.kernel.invokeFunction('convertToInteractive',\n",
              "                                                     [key], {});\n",
              "          if (!dataTable) return;\n",
              "\n",
              "          const docLinkHtml = 'Like what you see? Visit the ' +\n",
              "            '<a target=\"_blank\" href=https://colab.research.google.com/notebooks/data_table.ipynb>data table notebook</a>'\n",
              "            + ' to learn more about interactive tables.';\n",
              "          element.innerHTML = '';\n",
              "          dataTable['output_type'] = 'display_data';\n",
              "          await google.colab.output.renderOutput(dataTable, element);\n",
              "          const docLink = document.createElement('div');\n",
              "          docLink.innerHTML = docLinkHtml;\n",
              "          element.appendChild(docLink);\n",
              "        }\n",
              "      </script>\n",
              "    </div>\n",
              "  </div>\n",
              "  "
            ]
          },
          "metadata": {},
          "execution_count": 13
        }
      ]
    },
    {
      "cell_type": "markdown",
      "source": [
        "**Define Inference function to get prediction for any given image**"
      ],
      "metadata": {
        "id": "M0Y04IrSW9aw"
      }
    },
    {
      "cell_type": "code",
      "source": [
        "def inference(path, model, device):\n",
        "    #r = requests.get(path)\n",
        "    #with BytesIO(r.content) as f:\n",
        "  img = Image.open(path).convert(mode=\"L\")\n",
        "  img = img.resize((28, 28))\n",
        "  x = (255 - np.expand_dims(np.array(img), -1))/255.\n",
        "    \n",
        "  with torch.no_grad():\n",
        "    pred = model(torch.unsqueeze(T(x), axis=0).float().to(device))\n",
        "    return F.softmax(pred, dim=-1).cpu().numpy()"
      ],
      "metadata": {
        "id": "8gE-L00kWV12"
      },
      "execution_count": 52,
      "outputs": []
    },
    {
      "cell_type": "markdown",
      "source": [
        "**Testing images**"
      ],
      "metadata": {
        "id": "5dN98t7tbLbc"
      }
    },
    {
      "cell_type": "code",
      "source": [
        "#image_1\n",
        "path = \"https://previews.123rf.com/images/aroas/aroas1704/aroas170400068/79321959-handwritten-sketch-black-number-8-on-white-background.jpg\"\n",
        "r = requests.get(path)\n",
        "with BytesIO(r.content) as f:\n",
        "    img = Image.open(f).convert(mode=\"L\")\n",
        "    img = img.resize((28, 28))\n",
        "x = (255 - np.expand_dims(np.array(img), -1))/255."
      ],
      "metadata": {
        "id": "sAv_q4pmYx3a"
      },
      "execution_count": 15,
      "outputs": []
    },
    {
      "cell_type": "markdown",
      "source": [
        "**Showing the image**"
      ],
      "metadata": {
        "id": "mMSuFJpRZKeA"
      }
    },
    {
      "cell_type": "code",
      "source": [
        "plt.imshow(x.squeeze(-1), cmap=\"gray\")"
      ],
      "metadata": {
        "colab": {
          "base_uri": "https://localhost:8080/",
          "height": 282
        },
        "id": "su8UqjZxY9OG",
        "outputId": "46aa70e7-c444-425f-89a1-927e68c4c985"
      },
      "execution_count": 16,
      "outputs": [
        {
          "output_type": "execute_result",
          "data": {
            "text/plain": [
              "<matplotlib.image.AxesImage at 0x7f7bb1f3cc90>"
            ]
          },
          "metadata": {},
          "execution_count": 16
        },
        {
          "output_type": "display_data",
          "data": {
            "text/plain": [
              "<Figure size 432x288 with 1 Axes>"
            ],
            "image/png": "[encoded data removed]"
          },
          "metadata": {
            "needs_background": "light"
          }
        }
      ]
    },
    {
      "cell_type": "markdown",
      "source": [
        "**Predictions**"
      ],
      "metadata": {
        "id": "4SYpHCaJZhY6"
      }
    },
    {
      "cell_type": "code",
      "source": [
        "pred = inference(path, lenet, device=device)\n",
        "pred_idx = np.argmax(pred)\n",
        "print(f\"Predicted: {pred_idx}, Prob: {pred[0][pred_idx]*100} %\")"
      ],
      "metadata": {
        "colab": {
          "base_uri": "https://localhost:8080/"
        },
        "id": "0WnpjSuxZRbC",
        "outputId": "490f403c-e9b1-42c6-c16f-69761d385dc3"
      },
      "execution_count": 17,
      "outputs": [
        {
          "output_type": "stream",
          "name": "stdout",
          "text": [
            "Predicted: 8, Prob: 99.69210624694824 %\n"
          ]
        }
      ]
    },
    {
      "cell_type": "code",
      "source": [
        "#image_2\n",
        "path = \"https://previews.123rf.com/images/aroas/aroas1704/aroas170400040/79299050-handwritten-sketch-black-number-2-on-white-background.jpg\"\n",
        "r = requests.get(path)\n",
        "with BytesIO(r.content) as f:\n",
        "    img = Image.open(f).convert(mode=\"L\")\n",
        "    img = img.resize((28, 28))\n",
        "x = (255 - np.expand_dims(np.array(img), -1))/255."
      ],
      "metadata": {
        "id": "wO-ONHf4ZuzD"
      },
      "execution_count": 18,
      "outputs": []
    },
    {
      "cell_type": "code",
      "source": [
        "plt.imshow(x.squeeze(-1), cmap=\"gray\")"
      ],
      "metadata": {
        "colab": {
          "base_uri": "https://localhost:8080/",
          "height": 282
        },
        "id": "DSKFezbGbqaC",
        "outputId": "d9e500e9-e717-4453-84d6-60e730369365"
      },
      "execution_count": 19,
      "outputs": [
        {
          "output_type": "execute_result",
          "data": {
            "text/plain": [
              "<matplotlib.image.AxesImage at 0x7f7bb1eaa850>"
            ]
          },
          "metadata": {},
          "execution_count": 19
        },
        {
          "output_type": "display_data",
          "data": {
            "text/plain": [
              "<Figure size 432x288 with 1 Axes>"
            ],
            "image/png": "[encoded data removed]"
          },
          "metadata": {
            "needs_background": "light"
          }
        }
      ]
    },
    {
      "cell_type": "code",
      "source": [
        "pred = inference(path, lenet, device=device)\n",
        "pred_idx = np.argmax(pred)\n",
        "print(f\"Predicted: {pred_idx}, Prob: {pred[0][pred_idx]*100} %\")"
      ],
      "metadata": {
        "colab": {
          "base_uri": "https://localhost:8080/"
        },
        "id": "Z6a4u5_ebtgZ",
        "outputId": "7c98b67d-0818-4c97-9c34-7f42586e36a3"
      },
      "execution_count": 20,
      "outputs": [
        {
          "output_type": "stream",
          "name": "stdout",
          "text": [
            "Predicted: 2, Prob: 99.99624490737915 %\n"
          ]
        }
      ]
    },
    {
      "cell_type": "code",
      "source": [
        "#image_3\n",
        "path = \"https://previews.123rf.com/images/aroas/aroas1704/aroas170400061/79321951-handwritten-sketch-black-number-5-on-white-background.jpg\"\n",
        "r = requests.get(path)\n",
        "with BytesIO(r.content) as f:\n",
        "    img = Image.open(f).convert(mode=\"L\")\n",
        "    img = img.resize((28, 28))\n",
        "x = (255 - np.expand_dims(np.array(img), -1))/255."
      ],
      "metadata": {
        "id": "_I1owOZFbwzO"
      },
      "execution_count": 21,
      "outputs": []
    },
    {
      "cell_type": "code",
      "source": [
        "plt.imshow(x.squeeze(-1), cmap=\"gray\")"
      ],
      "metadata": {
        "colab": {
          "base_uri": "https://localhost:8080/",
          "height": 282
        },
        "id": "XsFvMmZ6cNCz",
        "outputId": "e2b66861-86d6-4406-a126-e45ce6e908da"
      },
      "execution_count": 22,
      "outputs": [
        {
          "output_type": "execute_result",
          "data": {
            "text/plain": [
              "<matplotlib.image.AxesImage at 0x7f7bb1e22210>"
            ]
          },
          "metadata": {},
          "execution_count": 22
        },
        {
          "output_type": "display_data",
          "data": {
            "text/plain": [
              "<Figure size 432x288 with 1 Axes>"
            ],
            "image/png": "[encoded data removed]"
          },
          "metadata": {
            "needs_background": "light"
          }
        }
      ]
    },
    {
      "cell_type": "code",
      "source": [
        "pred = inference(path, lenet, device=device)\n",
        "pred_idx = np.argmax(pred)\n",
        "print(f\"Predicted: {pred_idx}, Prob: {pred[0][pred_idx]*100} %\")"
      ],
      "metadata": {
        "colab": {
          "base_uri": "https://localhost:8080/"
        },
        "id": "3LpdUZxacQNH",
        "outputId": "1acb8314-ebb0-4ddb-81d0-aa11c0e4ed91"
      },
      "execution_count": 23,
      "outputs": [
        {
          "output_type": "stream",
          "name": "stdout",
          "text": [
            "Predicted: 5, Prob: 100.0 %\n"
          ]
        }
      ]
    },
    {
      "cell_type": "code",
      "source": [
        "#trying 7 because it got the 5 times as 2\n",
        "#image_4\n",
        "path = \"https://ak.picdn.net/shutterstock/videos/23708860/thumb/1.jpg\"\n",
        "r = requests.get(path)\n",
        "with BytesIO(r.content) as f:\n",
        "    img = Image.open(f).convert(mode=\"L\")\n",
        "    img = img.resize((28, 28))\n",
        "x = (255 - np.expand_dims(np.array(img), -1))/255."
      ],
      "metadata": {
        "id": "0xiVA973cSol"
      },
      "execution_count": 24,
      "outputs": []
    },
    {
      "cell_type": "code",
      "source": [
        "plt.imshow(x.squeeze(-1), cmap=\"gray\")"
      ],
      "metadata": {
        "colab": {
          "base_uri": "https://localhost:8080/",
          "height": 282
        },
        "id": "3qN-C3eAdbVL",
        "outputId": "72a31532-e3af-40d9-8606-fcc11449414b"
      },
      "execution_count": 25,
      "outputs": [
        {
          "output_type": "execute_result",
          "data": {
            "text/plain": [
              "<matplotlib.image.AxesImage at 0x7f7bb1e02c50>"
            ]
          },
          "metadata": {},
          "execution_count": 25
        },
        {
          "output_type": "display_data",
          "data": {
            "text/plain": [
              "<Figure size 432x288 with 1 Axes>"
            ],
            "image/png": "[encoded data removed]"
          },
          "metadata": {
            "needs_background": "light"
          }
        }
      ]
    },
    {
      "cell_type": "code",
      "source": [
        "pred = inference(path, lenet, device=device)\n",
        "pred_idx = np.argmax(pred)\n",
        "print(f\"Predicted: {pred_idx}, Prob: {pred[0][pred_idx]*100} %\")"
      ],
      "metadata": {
        "colab": {
          "base_uri": "https://localhost:8080/"
        },
        "id": "gQe15d7xddpl",
        "outputId": "66a4af2c-9029-4e53-cb30-356fb26df172"
      },
      "execution_count": 26,
      "outputs": [
        {
          "output_type": "stream",
          "name": "stdout",
          "text": [
            "Predicted: 7, Prob: 40.901705622673035 %\n"
          ]
        }
      ]
    },
    {
      "cell_type": "code",
      "source": [
        "#trying another 7\n",
        "path = \"https://previews.123rf.com/images/aroas/aroas1704/aroas170400043/79321936-croquis-manuscrit-noir-num%C3%A9ro-7-sur-fond-blanc.jpg\"\n",
        "r = requests.get(path)\n",
        "with BytesIO(r.content) as f:\n",
        "    img = Image.open(f).convert(mode=\"L\")\n",
        "    img = img.resize((28, 28))\n",
        "x = (255 - np.expand_dims(np.array(img), -1))/255."
      ],
      "metadata": {
        "id": "iFBUWtqudf7L"
      },
      "execution_count": 27,
      "outputs": []
    },
    {
      "cell_type": "code",
      "source": [
        "plt.imshow(x.squeeze(-1), cmap=\"gray\")"
      ],
      "metadata": {
        "colab": {
          "base_uri": "https://localhost:8080/",
          "height": 282
        },
        "id": "r4Z204R3dtu3",
        "outputId": "19c12d37-d883-41e0-c335-da1c382c8af5"
      },
      "execution_count": 28,
      "outputs": [
        {
          "output_type": "execute_result",
          "data": {
            "text/plain": [
              "<matplotlib.image.AxesImage at 0x7f7bb1d7f610>"
            ]
          },
          "metadata": {},
          "execution_count": 28
        },
        {
          "output_type": "display_data",
          "data": {
            "text/plain": [
              "<Figure size 432x288 with 1 Axes>"
            ],
            "image/png": "[encoded data removed]"
          },
          "metadata": {
            "needs_background": "light"
          }
        }
      ]
    },
    {
      "cell_type": "code",
      "source": [
        "pred = inference(path, lenet, device=device)\n",
        "pred_idx = np.argmax(pred)\n",
        "print(f\"Predicted: {pred_idx}, Prob: {pred[0][pred_idx]*100} %\")"
      ],
      "metadata": {
        "colab": {
          "base_uri": "https://localhost:8080/"
        },
        "id": "lnhUHwhbdvuj",
        "outputId": "de8db95c-9ef9-42cd-e1b2-c5fda38f4771"
      },
      "execution_count": 29,
      "outputs": [
        {
          "output_type": "stream",
          "name": "stdout",
          "text": [
            "Predicted: 7, Prob: 99.99998807907104 %\n"
          ]
        }
      ]
    },
    {
      "cell_type": "code",
      "source": [
        "#trying 6 because it got the 6 times as 4\n",
        "#image_5\n",
        "path = \"https://ak.picdn.net/shutterstock/videos/23708536/thumb/1.jpg\"\n",
        "r = requests.get(path)\n",
        "with BytesIO(r.content) as f:\n",
        "    img = Image.open(f).convert(mode=\"L\")\n",
        "    img = img.resize((28, 28))\n",
        "x = (255 - np.expand_dims(np.array(img), -1))/255."
      ],
      "metadata": {
        "id": "N5cs5bY4dx37"
      },
      "execution_count": 30,
      "outputs": []
    },
    {
      "cell_type": "code",
      "source": [
        "plt.imshow(x.squeeze(-1), cmap=\"gray\")"
      ],
      "metadata": {
        "colab": {
          "base_uri": "https://localhost:8080/",
          "height": 282
        },
        "id": "ECopynJJeDdQ",
        "outputId": "2abb6323-b35b-4b02-f767-34926d222c78"
      },
      "execution_count": 31,
      "outputs": [
        {
          "output_type": "execute_result",
          "data": {
            "text/plain": [
              "<matplotlib.image.AxesImage at 0x7f7bb1ce2f90>"
            ]
          },
          "metadata": {},
          "execution_count": 31
        },
        {
          "output_type": "display_data",
          "data": {
            "text/plain": [
              "<Figure size 432x288 with 1 Axes>"
            ],
            "image/png": "[encoded data removed]"
          },
          "metadata": {
            "needs_background": "light"
          }
        }
      ]
    },
    {
      "cell_type": "code",
      "source": [
        "pred = inference(path, lenet, device=device)\n",
        "pred_idx = np.argmax(pred)\n",
        "print(f\"Predicted: {pred_idx}, Prob: {pred[0][pred_idx]*100} %\")"
      ],
      "metadata": {
        "colab": {
          "base_uri": "https://localhost:8080/"
        },
        "id": "7DJaKs-_eFgq",
        "outputId": "641206a4-1155-4f46-a222-7155a586a149"
      },
      "execution_count": 32,
      "outputs": [
        {
          "output_type": "stream",
          "name": "stdout",
          "text": [
            "Predicted: 6, Prob: 92.60783195495605 %\n"
          ]
        }
      ]
    },
    {
      "cell_type": "code",
      "source": [
        "#trying another 7\n",
        "path = \"https://previews.123rf.com/images/aroas/aroas1704/aroas170400034/79321929-croquis-manuscrit-noir-num%C3%A9ro-6-sur-fond-blanc.jpg\"\n",
        "r = requests.get(path)\n",
        "with BytesIO(r.content) as f:\n",
        "    img = Image.open(f).convert(mode=\"L\")\n",
        "    img = img.resize((28, 28))\n",
        "x = (255 - np.expand_dims(np.array(img), -1))/255."
      ],
      "metadata": {
        "id": "5pSwUB0OeHm2"
      },
      "execution_count": 33,
      "outputs": []
    },
    {
      "cell_type": "code",
      "source": [
        "plt.imshow(x.squeeze(-1), cmap=\"gray\")"
      ],
      "metadata": {
        "colab": {
          "base_uri": "https://localhost:8080/",
          "height": 282
        },
        "id": "xM5uZCxPePnZ",
        "outputId": "cf5fd32e-a5e8-4dc5-a469-22319f6f6664"
      },
      "execution_count": 34,
      "outputs": [
        {
          "output_type": "execute_result",
          "data": {
            "text/plain": [
              "<matplotlib.image.AxesImage at 0x7f7bb1c549d0>"
            ]
          },
          "metadata": {},
          "execution_count": 34
        },
        {
          "output_type": "display_data",
          "data": {
            "text/plain": [
              "<Figure size 432x288 with 1 Axes>"
            ],
            "image/png": "[encoded data removed]"
          },
          "metadata": {
            "needs_background": "light"
          }
        }
      ]
    },
    {
      "cell_type": "code",
      "source": [
        "pred = inference(path, lenet, device=device)\n",
        "pred_idx = np.argmax(pred)\n",
        "print(f\"Predicted: {pred_idx}, Prob: {pred[0][pred_idx]*100} %\")"
      ],
      "metadata": {
        "colab": {
          "base_uri": "https://localhost:8080/"
        },
        "id": "GVgYN51ueRhU",
        "outputId": "3e7a623f-ba63-4207-d81f-66dc77b29b0f"
      },
      "execution_count": 35,
      "outputs": [
        {
          "output_type": "stream",
          "name": "stdout",
          "text": [
            "Predicted: 5, Prob: 70.41106224060059 %\n"
          ]
        }
      ]
    },
    {
      "cell_type": "markdown",
      "source": [
        "**Trying our data**"
      ],
      "metadata": {
        "id": "uNvOc_CoMNMb"
      }
    },
    {
      "cell_type": "code",
      "source": [
        "#2\n",
        "path = \"/content/2.PNG\"\n",
        "#r = requests.get(path)\n",
        "#with BytesIO(r.content) as f:\n",
        "img = Image.open(\"/content/2.PNG\").convert(mode=\"L\")\n",
        "img = img.resize((28, 28))\n",
        "x = (255 - np.expand_dims(np.array(img), -1))/255."
      ],
      "metadata": {
        "id": "Ky-pHCMPeTFY"
      },
      "execution_count": 53,
      "outputs": []
    },
    {
      "cell_type": "code",
      "source": [
        "plt.imshow(x.squeeze(-1), cmap=\"gray\")"
      ],
      "metadata": {
        "colab": {
          "base_uri": "https://localhost:8080/",
          "height": 282
        },
        "id": "GMiwykLENsOI",
        "outputId": "90090a6a-9e1a-4b09-d0f5-3b047e6e04e7"
      },
      "execution_count": 54,
      "outputs": [
        {
          "output_type": "execute_result",
          "data": {
            "text/plain": [
              "<matplotlib.image.AxesImage at 0x7f7bb0f47c10>"
            ]
          },
          "metadata": {},
          "execution_count": 54
        },
        {
          "output_type": "display_data",
          "data": {
            "text/plain": [
              "<Figure size 432x288 with 1 Axes>"
            ],
            "image/png": "[encoded data removed]"
          },
          "metadata": {
            "needs_background": "light"
          }
        }
      ]
    },
    {
      "cell_type": "code",
      "source": [
        "pred = inference(path,lenet, device=device)\n",
        "pred_idx = np.argmax(pred)\n",
        "print(f\"Predicted: {pred_idx}, Prob: {pred[0][pred_idx]*100} %\")"
      ],
      "metadata": {
        "colab": {
          "base_uri": "https://localhost:8080/"
        },
        "id": "g2lVNRe-NymX",
        "outputId": "d40b635d-cfde-4f1d-9aec-53054cc05754"
      },
      "execution_count": 55,
      "outputs": [
        {
          "output_type": "stream",
          "name": "stdout",
          "text": [
            "Predicted: 2, Prob: 99.94364380836487 %\n"
          ]
        }
      ]
    },
    {
      "cell_type": "code",
      "source": [
        "#3\n",
        "path = \"/content/278616056_384012130236034_7798205589459402827_n.png\"\n",
        "#r = requests.get(path)\n",
        "#with BytesIO(r.content) as f:\n",
        "img = Image.open(path).convert(mode=\"L\")\n",
        "img = img.resize((28, 28))\n",
        "x = (255 - np.expand_dims(np.array(img), -1))/255."
      ],
      "metadata": {
        "id": "PXqjp5_COBgg"
      },
      "execution_count": 59,
      "outputs": []
    },
    {
      "cell_type": "code",
      "source": [
        "plt.imshow(x.squeeze(-1), cmap=\"gray\")"
      ],
      "metadata": {
        "colab": {
          "base_uri": "https://localhost:8080/",
          "height": 282
        },
        "id": "WifbyP6eWduC",
        "outputId": "d6363e58-ba1f-4d93-b276-8b4fc151f6b5"
      },
      "execution_count": 60,
      "outputs": [
        {
          "output_type": "execute_result",
          "data": {
            "text/plain": [
              "<matplotlib.image.AxesImage at 0x7f7bb0e2c490>"
            ]
          },
          "metadata": {},
          "execution_count": 60
        },
        {
          "output_type": "display_data",
          "data": {
            "text/plain": [
              "<Figure size 432x288 with 1 Axes>"
            ],
            "image/png": "[encoded data removed]"
          },
          "metadata": {
            "needs_background": "light"
          }
        }
      ]
    },
    {
      "cell_type": "code",
      "source": [
        "pred = inference(path,lenet, device=device)\n",
        "pred_idx = np.argmax(pred)\n",
        "print(f\"Predicted: {pred_idx}, Prob: {pred[0][pred_idx]*100} %\")"
      ],
      "metadata": {
        "colab": {
          "base_uri": "https://localhost:8080/"
        },
        "id": "NiDAbiDDWild",
        "outputId": "6b67847b-782e-40be-b5a9-99a0d9b4c3e9"
      },
      "execution_count": 61,
      "outputs": [
        {
          "output_type": "stream",
          "name": "stdout",
          "text": [
            "Predicted: 5, Prob: 88.41745853424072 %\n"
          ]
        }
      ]
    },
    {
      "cell_type": "code",
      "source": [
        "#5\n",
        "path = \"/content/5.PNG\"\n",
        "#r = requests.get(path)\n",
        "#with BytesIO(r.content) as f:\n",
        "img = Image.open(path).convert(mode=\"L\")\n",
        "img = img.resize((28, 28))\n",
        "x = (255 - np.expand_dims(np.array(img), -1))/255."
      ],
      "metadata": {
        "id": "LqqBnSAdWlYB"
      },
      "execution_count": 62,
      "outputs": []
    },
    {
      "cell_type": "code",
      "source": [
        "plt.imshow(x.squeeze(-1), cmap=\"gray\")"
      ],
      "metadata": {
        "colab": {
          "base_uri": "https://localhost:8080/",
          "height": 282
        },
        "id": "9WG0-S5zZuOP",
        "outputId": "ccd8114a-4f6c-46ab-fd77-3825e4d35bd8"
      },
      "execution_count": 63,
      "outputs": [
        {
          "output_type": "execute_result",
          "data": {
            "text/plain": [
              "<matplotlib.image.AxesImage at 0x7f7bb0e18090>"
            ]
          },
          "metadata": {},
          "execution_count": 63
        },
        {
          "output_type": "display_data",
          "data": {
            "text/plain": [
              "<Figure size 432x288 with 1 Axes>"
            ],
            "image/png": "[encoded data removed]"
          },
          "metadata": {
            "needs_background": "light"
          }
        }
      ]
    },
    {
      "cell_type": "code",
      "source": [
        "pred = inference(path,lenet, device=device)\n",
        "pred_idx = np.argmax(pred)\n",
        "print(f\"Predicted: {pred_idx}, Prob: {pred[0][pred_idx]*100} %\")"
      ],
      "metadata": {
        "colab": {
          "base_uri": "https://localhost:8080/"
        },
        "id": "1yfouqlhZwJZ",
        "outputId": "12041e85-5b13-4b96-bbda-8040d7d1d8ff"
      },
      "execution_count": 64,
      "outputs": [
        {
          "output_type": "stream",
          "name": "stdout",
          "text": [
            "Predicted: 3, Prob: 97.83632755279541 %\n"
          ]
        }
      ]
    },
    {
      "cell_type": "code",
      "source": [
        "#5\n",
        "path = \"/content/6.PNG\"\n",
        "#r = requests.get(path)\n",
        "#with BytesIO(r.content) as f:\n",
        "img = Image.open(path).convert(mode=\"L\")\n",
        "img = img.resize((28, 28))\n",
        "x = (255 - np.expand_dims(np.array(img), -1))/255."
      ],
      "metadata": {
        "id": "FZbGup01Z88W"
      },
      "execution_count": 65,
      "outputs": []
    },
    {
      "cell_type": "code",
      "source": [
        "plt.imshow(x.squeeze(-1), cmap=\"gray\")"
      ],
      "metadata": {
        "colab": {
          "base_uri": "https://localhost:8080/",
          "height": 282
        },
        "id": "1d35w_A9aGKr",
        "outputId": "45821d2a-0ecb-4871-c113-731fa211039a"
      },
      "execution_count": 66,
      "outputs": [
        {
          "output_type": "execute_result",
          "data": {
            "text/plain": [
              "<matplotlib.image.AxesImage at 0x7f7bb0d77f50>"
            ]
          },
          "metadata": {},
          "execution_count": 66
        },
        {
          "output_type": "display_data",
          "data": {
            "text/plain": [
              "<Figure size 432x288 with 1 Axes>"
            ],
            "image/png": "[encoded data removed]"
          },
          "metadata": {
            "needs_background": "light"
          }
        }
      ]
    },
    {
      "cell_type": "code",
      "source": [
        "pred = inference(path,lenet, device=device)\n",
        "pred_idx = np.argmax(pred)\n",
        "print(f\"Predicted: {pred_idx}, Prob: {pred[0][pred_idx]*100} %\")"
      ],
      "metadata": {
        "colab": {
          "base_uri": "https://localhost:8080/"
        },
        "id": "oLQbXu_BaH09",
        "outputId": "74152767-d71d-4d4e-be7d-f8919a492b71"
      },
      "execution_count": 67,
      "outputs": [
        {
          "output_type": "stream",
          "name": "stdout",
          "text": [
            "Predicted: 5, Prob: 99.97430443763733 %\n"
          ]
        }
      ]
    },
    {
      "cell_type": "code",
      "source": [
        "#5\n",
        "path = \"/content/4.PNG\"\n",
        "#r = requests.get(path)\n",
        "#with BytesIO(r.content) as f:\n",
        "img = Image.open(path).convert(mode=\"L\")\n",
        "img = img.resize((28, 28))\n",
        "x = (255 - np.expand_dims(np.array(img), -1))/255."
      ],
      "metadata": {
        "id": "TQ46aru5aKs6"
      },
      "execution_count": 68,
      "outputs": []
    },
    {
      "cell_type": "code",
      "source": [
        "plt.imshow(x.squeeze(-1), cmap=\"gray\")"
      ],
      "metadata": {
        "colab": {
          "base_uri": "https://localhost:8080/",
          "height": 282
        },
        "id": "zWazEfCPaW5l",
        "outputId": "b79cb8f9-6e7b-43c4-f90f-7c3381a4db72"
      },
      "execution_count": 69,
      "outputs": [
        {
          "output_type": "execute_result",
          "data": {
            "text/plain": [
              "<matplotlib.image.AxesImage at 0x7f7bb0cdfc10>"
            ]
          },
          "metadata": {},
          "execution_count": 69
        },
        {
          "output_type": "display_data",
          "data": {
            "text/plain": [
              "<Figure size 432x288 with 1 Axes>"
            ],
            "image/png": "[encoded data removed]"
          },
          "metadata": {
            "needs_background": "light"
          }
        }
      ]
    },
    {
      "cell_type": "code",
      "source": [
        "pred = inference(path,lenet, device=device)\n",
        "pred_idx = np.argmax(pred)\n",
        "print(f\"Predicted: {pred_idx}, Prob: {pred[0][pred_idx]*100} %\")"
      ],
      "metadata": {
        "colab": {
          "base_uri": "https://localhost:8080/"
        },
        "id": "p_lqbdbYaYWF",
        "outputId": "be7c3838-9160-4a58-cc33-bf65ad198d01"
      },
      "execution_count": 70,
      "outputs": [
        {
          "output_type": "stream",
          "name": "stdout",
          "text": [
            "Predicted: 5, Prob: 96.53371572494507 %\n"
          ]
        }
      ]
    },
    {
      "cell_type": "code",
      "source": [
        ""
      ],
      "metadata": {
        "id": "MMq0Hz3SacAR"
      },
      "execution_count": null,
      "outputs": []
    }
  ]
}